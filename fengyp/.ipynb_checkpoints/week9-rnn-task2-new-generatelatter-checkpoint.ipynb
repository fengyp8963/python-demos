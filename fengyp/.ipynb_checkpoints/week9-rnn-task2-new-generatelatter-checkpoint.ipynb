{
 "cells": [
  {
   "cell_type": "markdown",
   "id": "1a6100b9-5c85-4742-803d-8c18223bb2f7",
   "metadata": {},
   "source": [
    "任务: 基于flare文本数据，建立LSTM模型，预测序列文字:\n",
    "1.完成数据预处理，将文字序列数据转化为可用于LSTM输入的数据\n",
    "2.查看文字数据预处理后的数据结构，并进行数据分离操作\n",
    "3.针对字符电输入(”flare is a teacher in ai industry，He obtained his phd in Australia.\")，预测其对应的后续\n",
    "字符\n",
    "备注:模型结构:单层LSTM，输出有20个神经元: 每次使用前20个字符预测第21个字符"
   ]
  },
  {
   "cell_type": "code",
   "execution_count": 5,
   "id": "3cd6d125-3b3e-47ab-9efe-8cb4b78db786",
   "metadata": {},
   "outputs": [
    {
     "name": "stdout",
     "output_type": "stream",
     "text": [
      "Certainly, here's a short story about the workplace:Alison had always been ambitious. As a child, she had dreamed of working in a high-powered job in the city, and had worked tirelessly to achieve that goal. Now, at thirty-two, she was a successful executive at one of the biggest companies in the country. But as she sat in her office, staring at the papers on her desk, she couldn't help but feel unfulfilled.Alison had always thought that success would bring her happiness. But as she climbed the corporate ladder, she had become increasingly disillusioned. The long hours, the endless meetings, the constant pressure to perform - it all seemed like a never-ending cycle of stress and anxiety. She longed for something more, but she didn't know what.One day, as she was walking to the office, she noticed a small bookstore nestled in between the buildings. Curiosity got the better of her, and she decided to pop in. As she browsed the shelves, she stumbled upon a book called \"Find Your Passion: A Guide to Discovering Your True Calling\". Intrigued, she bought it.Over the next few weeks, Alison devoured the book. It was like a lightbulb had switched on in her mind. She realized that all this time, she had been chasing someone else's dream. She had been so focused on climbing the corporate ladder that she had forgotten what really mattered to her.With a newfound sense of purpose, Alison quit her job and started her own business. It wasn't easy, but she loved every minute of it. She worked harder than she ever had before, but this time, it was different. She was doing something that she truly cared about, and that made all the difference.Looking back, Alison realized that the years she had spent in the corporate world had not been wasted. They had taught her valuable skills and given her the confidence to pursue her dreams. But now, she was finally living the life she had always wanted.As she sat in her new office, surrounded by the things she loved, Alison knew that she had found her true calling. And she was grateful for every step that had led her here.\n"
     ]
    }
   ],
   "source": [
    "# load the data\n",
    "data = open('flare.txt').read()\n",
    "# 移除换行符\n",
    "data = data.replace('\\n','').replace('\\r','')\n",
    "print(data)"
   ]
  },
  {
   "cell_type": "code",
   "execution_count": 7,
   "id": "e0796282-5217-45ff-850c-d122a4cfb083",
   "metadata": {},
   "outputs": [
    {
     "name": "stdout",
     "output_type": "stream",
     "text": [
      "['S', 'G', 's', 'B', ' ', 'y', 'C', '\"', ',', 'n', 'c', 'x', 'F', 'g', 'o', 'w', ':', 'i', 'e', 'v', 'k', 'f', 'l', 'd', 'P', 'r', 'b', 'Y', 'T', 'W', 't', 'h', 'a', 'A', 'I', '.', 'D', 'L', 'O', 'N', '-', 'm', 'j', 'z', 'p', \"'\", 'q', 'u']\n",
      "48\n"
     ]
    }
   ],
   "source": [
    "# 字符去重处理\n",
    "letters = list(set(data))\n",
    "print(letters)\n",
    "num_letters = len(letters)\n",
    "print(num_letters)"
   ]
  },
  {
   "cell_type": "code",
   "execution_count": 9,
   "id": "29c68541-802e-4904-8465-f17d35a2bbb9",
   "metadata": {},
   "outputs": [
    {
     "name": "stdout",
     "output_type": "stream",
     "text": [
      "{0: 'S', 1: 'G', 2: 's', 3: 'B', 4: ' ', 5: 'y', 6: 'C', 7: '\"', 8: ',', 9: 'n', 10: 'c', 11: 'x', 12: 'F', 13: 'g', 14: 'o', 15: 'w', 16: ':', 17: 'i', 18: 'e', 19: 'v', 20: 'k', 21: 'f', 22: 'l', 23: 'd', 24: 'P', 25: 'r', 26: 'b', 27: 'Y', 28: 'T', 29: 'W', 30: 't', 31: 'h', 32: 'a', 33: 'A', 34: 'I', 35: '.', 36: 'D', 37: 'L', 38: 'O', 39: 'N', 40: '-', 41: 'm', 42: 'j', 43: 'z', 44: 'p', 45: \"'\", 46: 'q', 47: 'u'}\n",
      "{'S': 0, 'G': 1, 's': 2, 'B': 3, ' ': 4, 'y': 5, 'C': 6, '\"': 7, ',': 8, 'n': 9, 'c': 10, 'x': 11, 'F': 12, 'g': 13, 'o': 14, 'w': 15, ':': 16, 'i': 17, 'e': 18, 'v': 19, 'k': 20, 'f': 21, 'l': 22, 'd': 23, 'P': 24, 'r': 25, 'b': 26, 'Y': 27, 'T': 28, 'W': 29, 't': 30, 'h': 31, 'a': 32, 'A': 33, 'I': 34, '.': 35, 'D': 36, 'L': 37, 'O': 38, 'N': 39, '-': 40, 'm': 41, 'j': 42, 'z': 43, 'p': 44, \"'\": 45, 'q': 46, 'u': 47}\n"
     ]
    }
   ],
   "source": [
    "# 建立字典\n",
    "# int to char\n",
    "int_to_char = {a:b for a,b in enumerate(letters)}\n",
    "print(int_to_char)\n",
    "# char to int\n",
    "char_to_int = { b:a for a,b in enumerate(letters)}\n",
    "print(char_to_int)"
   ]
  },
  {
   "cell_type": "code",
   "execution_count": 11,
   "id": "089b202a-9ed1-46fb-a4c5-9c2e9c90c0e2",
   "metadata": {},
   "outputs": [],
   "source": [
    "# time_step\n",
    "time_step = 20"
   ]
  },
  {
   "cell_type": "code",
   "execution_count": 10,
   "id": "99c8ebe6-966e-4d09-91de-ee998388c2d5",
   "metadata": {},
   "outputs": [],
   "source": [
    "#批量字符数据预处理\n",
    "import numpy as np\n",
    "from keras.utils import to_categorical\n",
    "#滑动窗口提取数据\n",
    "def extract_data(data,slide):\n",
    "    x = []\n",
    "    y = []\n",
    "    for i in range(len(data) - slide):\n",
    "        x.append([a for a in data[i:i+slide]])\n",
    "        y.append(data[i+slide])\n",
    "    return x,y\n",
    "#字符到数字的批量转换\n",
    "def char_to_int_Data(x,y,char_to_int):\n",
    "    x_to_int = []  \n",
    "    y_to_int = []\n",
    "    for i in range(len(x)):\n",
    "        x_to_int.append([char_to_int[char] for char in x[i]])\n",
    "        y_to_int.append([char_to_int[char] for char in y[i]])\n",
    "    return x_to_int,y_to_int\n",
    "\n",
    "#实现输入字符文章的批量处理,输入整个字符,滑动窗口大小,转化字典\n",
    "def data_preprocessing(data,slide,num_letters,char_to_int):\n",
    "    char_data = extract_data(data,slide)\n",
    "    int_data = char_to_int_Data(char_data[0],char_data[1],char_to_int)\n",
    "    Input = int_data[0]\n",
    "    Output = list(np.array(int_data[1]).flatten()  )\n",
    "    Input_RESHAPED = np.array(Input).reshape(len(Input ),slide)\n",
    "    new = np.random.randint(0,10,size=[Input_RESHAPED.shape[0],Input_RESHAPED.shape[1],num_letters])\n",
    "    for i in range(Input_RESHAPED.shape[0]):\n",
    "        for j in range(Input_RESHAPED.shape[1]):\n",
    "            new[i,j,:] = to_categorical(Input_RESHAPED[i,j],num_classes=num_letters)\n",
    "    return new,Output"
   ]
  },
  {
   "cell_type": "code",
   "execution_count": 12,
   "id": "97d2168f-0792-45b8-8884-255da9da51da",
   "metadata": {},
   "outputs": [],
   "source": [
    "# extract X and y from text data\n",
    "X,y = data_preprocessing(data,time_step,num_letters,char_to_int)"
   ]
  },
  {
   "cell_type": "code",
   "execution_count": 14,
   "id": "14ff62a7-03cf-455d-963f-1eace5298c3a",
   "metadata": {},
   "outputs": [
    {
     "name": "stdout",
     "output_type": "stream",
     "text": [
      "(2058, 20, 48)\n"
     ]
    }
   ],
   "source": [
    "print(X.shape)"
   ]
  },
  {
   "cell_type": "code",
   "execution_count": 16,
   "id": "54d14459-704a-4062-8d21-3f5ec531a866",
   "metadata": {},
   "outputs": [
    {
     "name": "stdout",
     "output_type": "stream",
     "text": [
      "2058\n"
     ]
    }
   ],
   "source": [
    "print(len(y))"
   ]
  },
  {
   "cell_type": "code",
   "execution_count": 17,
   "id": "eb9cdb3a-1586-4d1d-899a-6c1cdf7ea325",
   "metadata": {},
   "outputs": [
    {
     "name": "stdout",
     "output_type": "stream",
     "text": [
      "(1852, 20, 48) 1852\n"
     ]
    }
   ],
   "source": [
    "# split the data\n",
    "from sklearn.model_selection import  train_test_split\n",
    "X_train,X_test,y_train,y_test = train_test_split(X,y,test_size=0.1,random_state=10)\n",
    "print(X_train.shape,len(y_train))"
   ]
  },
  {
   "cell_type": "code",
   "execution_count": 18,
   "id": "3d9e35b8-ce9c-4cee-95d3-c205fce7f9d0",
   "metadata": {},
   "outputs": [
    {
     "name": "stdout",
     "output_type": "stream",
     "text": [
      "[[0. 0. 0. ... 0. 0. 0.]\n",
      " [0. 0. 0. ... 0. 0. 0.]\n",
      " [0. 0. 1. ... 0. 0. 0.]\n",
      " ...\n",
      " [0. 0. 0. ... 0. 0. 0.]\n",
      " [0. 0. 0. ... 0. 0. 0.]\n",
      " [0. 0. 0. ... 0. 0. 0.]]\n"
     ]
    }
   ],
   "source": [
    "y_train_category = to_categorical(y_train,num_letters)\n",
    "print(y_train_category)"
   ]
  },
  {
   "cell_type": "code",
   "execution_count": 19,
   "id": "4b048f76-62de-4c4f-b747-71b020d066c6",
   "metadata": {},
   "outputs": [
    {
     "name": "stdout",
     "output_type": "stream",
     "text": [
      "Model: \"sequential\"\n",
      "_________________________________________________________________\n",
      " Layer (type)                Output Shape              Param #   \n",
      "=================================================================\n",
      " lstm (LSTM)                 (None, 20)                5520      \n",
      "                                                                 \n",
      " dense (Dense)               (None, 48)                1008      \n",
      "                                                                 \n",
      "=================================================================\n",
      "Total params: 6528 (25.50 KB)\n",
      "Trainable params: 6528 (25.50 KB)\n",
      "Non-trainable params: 0 (0.00 Byte)\n",
      "_________________________________________________________________\n"
     ]
    }
   ],
   "source": [
    "# set up the model\n",
    "from keras.models import Sequential\n",
    "from keras.layers import Dense,LSTM\n",
    "\n",
    "model = Sequential()\n",
    "# input_shape 看样本的\n",
    "model.add(LSTM(units=20,input_shape=(X_train.shape[1],X_train.shape[2]),activation=\"relu\"))\n",
    "#输出层 看样本有多少页\n",
    "model.add(Dense(units=num_letters ,activation=\"softmax\"))\n",
    "model.compile(optimizer=\"adam\",loss=\"categorical_crossentropy\",metrics=[\"accuracy\"])\n",
    "model.summary()"
   ]
  },
  {
   "cell_type": "code",
   "execution_count": 34,
   "id": "9c284b20-823e-4e6a-8041-9f31f26da05d",
   "metadata": {},
   "outputs": [
    {
     "name": "stdout",
     "output_type": "stream",
     "text": [
      "Epoch 1/200\n",
      "19/19 [==============================] - 0s 4ms/step - loss: 1.0414 - accuracy: 0.6825\n",
      "Epoch 2/200\n",
      "19/19 [==============================] - 0s 4ms/step - loss: 1.0697 - accuracy: 0.6674\n",
      "Epoch 3/200\n",
      "19/19 [==============================] - 0s 4ms/step - loss: 1.0269 - accuracy: 0.6836\n",
      "Epoch 4/200\n",
      "19/19 [==============================] - 0s 4ms/step - loss: 1.0211 - accuracy: 0.6884\n",
      "Epoch 5/200\n",
      "19/19 [==============================] - 0s 4ms/step - loss: 1.0192 - accuracy: 0.6803\n",
      "Epoch 6/200\n",
      "19/19 [==============================] - 0s 4ms/step - loss: 1.0209 - accuracy: 0.6841\n",
      "Epoch 7/200\n",
      "19/19 [==============================] - 0s 4ms/step - loss: 1.0077 - accuracy: 0.7025\n",
      "Epoch 8/200\n",
      "19/19 [==============================] - 0s 4ms/step - loss: 1.0217 - accuracy: 0.6917\n",
      "Epoch 9/200\n",
      "19/19 [==============================] - 0s 4ms/step - loss: 1.0668 - accuracy: 0.6609\n",
      "Epoch 10/200\n",
      "19/19 [==============================] - 0s 4ms/step - loss: 1.0735 - accuracy: 0.6685\n",
      "Epoch 11/200\n",
      "19/19 [==============================] - 0s 4ms/step - loss: 1.0428 - accuracy: 0.6809\n",
      "Epoch 12/200\n",
      "19/19 [==============================] - 0s 4ms/step - loss: 1.0070 - accuracy: 0.6938\n",
      "Epoch 13/200\n",
      "19/19 [==============================] - 0s 4ms/step - loss: 1.0144 - accuracy: 0.6847\n",
      "Epoch 14/200\n",
      "19/19 [==============================] - 0s 4ms/step - loss: 1.0061 - accuracy: 0.6933\n",
      "Epoch 15/200\n",
      "19/19 [==============================] - 0s 4ms/step - loss: 1.0026 - accuracy: 0.6960\n",
      "Epoch 16/200\n",
      "19/19 [==============================] - 0s 4ms/step - loss: 1.0128 - accuracy: 0.6922\n",
      "Epoch 17/200\n",
      "19/19 [==============================] - 0s 5ms/step - loss: 1.0021 - accuracy: 0.6944\n",
      "Epoch 18/200\n",
      "19/19 [==============================] - 0s 4ms/step - loss: 1.0267 - accuracy: 0.6847\n",
      "Epoch 19/200\n",
      "19/19 [==============================] - 0s 4ms/step - loss: 1.0576 - accuracy: 0.6739\n",
      "Epoch 20/200\n",
      "19/19 [==============================] - 0s 4ms/step - loss: 1.0220 - accuracy: 0.6874\n",
      "Epoch 21/200\n",
      "19/19 [==============================] - 0s 4ms/step - loss: 1.0361 - accuracy: 0.6782\n",
      "Epoch 22/200\n",
      "19/19 [==============================] - 0s 4ms/step - loss: 1.0281 - accuracy: 0.6906\n",
      "Epoch 23/200\n",
      "19/19 [==============================] - 0s 4ms/step - loss: 1.0110 - accuracy: 0.6976\n",
      "Epoch 24/200\n",
      "19/19 [==============================] - 0s 4ms/step - loss: 0.9996 - accuracy: 0.6906\n",
      "Epoch 25/200\n",
      "19/19 [==============================] - 0s 4ms/step - loss: 0.9841 - accuracy: 0.7025\n",
      "Epoch 26/200\n",
      "19/19 [==============================] - 0s 4ms/step - loss: 1.0345 - accuracy: 0.6749\n",
      "Epoch 27/200\n",
      "19/19 [==============================] - 0s 4ms/step - loss: 1.0447 - accuracy: 0.6825\n",
      "Epoch 28/200\n",
      "19/19 [==============================] - 0s 4ms/step - loss: 1.0449 - accuracy: 0.6690\n",
      "Epoch 29/200\n",
      "19/19 [==============================] - 0s 4ms/step - loss: 0.9692 - accuracy: 0.7095\n",
      "Epoch 30/200\n",
      "19/19 [==============================] - 0s 4ms/step - loss: 0.9609 - accuracy: 0.7154\n",
      "Epoch 31/200\n",
      "19/19 [==============================] - 0s 5ms/step - loss: 0.9724 - accuracy: 0.7090\n",
      "Epoch 32/200\n",
      "19/19 [==============================] - 0s 4ms/step - loss: 0.9885 - accuracy: 0.7014\n",
      "Epoch 33/200\n",
      "19/19 [==============================] - 0s 4ms/step - loss: 0.9766 - accuracy: 0.7046\n",
      "Epoch 34/200\n",
      "19/19 [==============================] - 0s 4ms/step - loss: 0.9665 - accuracy: 0.7084\n",
      "Epoch 35/200\n",
      "19/19 [==============================] - 0s 4ms/step - loss: 0.9930 - accuracy: 0.7036\n",
      "Epoch 36/200\n",
      "19/19 [==============================] - 0s 4ms/step - loss: 1.0188 - accuracy: 0.6814\n",
      "Epoch 37/200\n",
      "19/19 [==============================] - 0s 4ms/step - loss: 1.0544 - accuracy: 0.6728\n",
      "Epoch 38/200\n",
      "19/19 [==============================] - 0s 4ms/step - loss: 1.0307 - accuracy: 0.6841\n",
      "Epoch 39/200\n",
      "19/19 [==============================] - 0s 4ms/step - loss: 1.0326 - accuracy: 0.6852\n",
      "Epoch 40/200\n",
      "19/19 [==============================] - 0s 4ms/step - loss: 0.9727 - accuracy: 0.7036\n",
      "Epoch 41/200\n",
      "19/19 [==============================] - 0s 4ms/step - loss: 1.0105 - accuracy: 0.6976\n",
      "Epoch 42/200\n",
      "19/19 [==============================] - 0s 4ms/step - loss: 0.9841 - accuracy: 0.7079\n",
      "Epoch 43/200\n",
      "19/19 [==============================] - 0s 4ms/step - loss: 0.9949 - accuracy: 0.7003\n",
      "Epoch 44/200\n",
      "19/19 [==============================] - 0s 4ms/step - loss: 0.9595 - accuracy: 0.7133\n",
      "Epoch 45/200\n",
      "19/19 [==============================] - 0s 5ms/step - loss: 0.9347 - accuracy: 0.7203\n",
      "Epoch 46/200\n",
      "19/19 [==============================] - 0s 4ms/step - loss: 0.9336 - accuracy: 0.7203\n",
      "Epoch 47/200\n",
      "19/19 [==============================] - 0s 4ms/step - loss: 0.9428 - accuracy: 0.7154\n",
      "Epoch 48/200\n",
      "19/19 [==============================] - 0s 4ms/step - loss: 0.9492 - accuracy: 0.7149\n",
      "Epoch 49/200\n",
      "19/19 [==============================] - 0s 4ms/step - loss: 0.9641 - accuracy: 0.7009\n",
      "Epoch 50/200\n",
      "19/19 [==============================] - 0s 4ms/step - loss: 0.9810 - accuracy: 0.6928\n",
      "Epoch 51/200\n",
      "19/19 [==============================] - 0s 4ms/step - loss: 0.9588 - accuracy: 0.7009\n",
      "Epoch 52/200\n",
      "19/19 [==============================] - 0s 4ms/step - loss: 0.9268 - accuracy: 0.7219\n",
      "Epoch 53/200\n",
      "19/19 [==============================] - 0s 4ms/step - loss: 0.9363 - accuracy: 0.7171\n",
      "Epoch 54/200\n",
      "19/19 [==============================] - 0s 4ms/step - loss: 0.9244 - accuracy: 0.7225\n",
      "Epoch 55/200\n",
      "19/19 [==============================] - 0s 5ms/step - loss: 0.9466 - accuracy: 0.7144\n",
      "Epoch 56/200\n",
      "19/19 [==============================] - 0s 5ms/step - loss: 0.9973 - accuracy: 0.6922\n",
      "Epoch 57/200\n",
      "19/19 [==============================] - 0s 4ms/step - loss: 0.9536 - accuracy: 0.7030\n",
      "Epoch 58/200\n",
      "19/19 [==============================] - 0s 4ms/step - loss: 0.9139 - accuracy: 0.7273\n",
      "Epoch 59/200\n",
      "19/19 [==============================] - 0s 4ms/step - loss: 0.9045 - accuracy: 0.7295\n",
      "Epoch 60/200\n",
      "19/19 [==============================] - 0s 4ms/step - loss: 0.9152 - accuracy: 0.7203\n",
      "Epoch 61/200\n",
      "19/19 [==============================] - 0s 4ms/step - loss: 0.9183 - accuracy: 0.7208\n",
      "Epoch 62/200\n",
      "19/19 [==============================] - 0s 5ms/step - loss: 0.9714 - accuracy: 0.7106\n",
      "Epoch 63/200\n",
      "19/19 [==============================] - 0s 5ms/step - loss: 0.9825 - accuracy: 0.6933\n",
      "Epoch 64/200\n",
      "19/19 [==============================] - 0s 5ms/step - loss: 1.1029 - accuracy: 0.6652\n",
      "Epoch 65/200\n",
      "19/19 [==============================] - 0s 5ms/step - loss: 1.0262 - accuracy: 0.6771\n",
      "Epoch 66/200\n",
      "19/19 [==============================] - 0s 4ms/step - loss: 0.9163 - accuracy: 0.7219\n",
      "Epoch 67/200\n",
      "19/19 [==============================] - 0s 5ms/step - loss: 0.9038 - accuracy: 0.7246\n",
      "Epoch 68/200\n",
      "19/19 [==============================] - 0s 5ms/step - loss: 0.8992 - accuracy: 0.7268\n",
      "Epoch 69/200\n",
      "19/19 [==============================] - 0s 5ms/step - loss: 0.8965 - accuracy: 0.7354\n",
      "Epoch 70/200\n",
      "19/19 [==============================] - 0s 5ms/step - loss: 0.8895 - accuracy: 0.7306\n",
      "Epoch 71/200\n",
      "19/19 [==============================] - 0s 5ms/step - loss: 0.8909 - accuracy: 0.7300\n",
      "Epoch 72/200\n",
      "19/19 [==============================] - 0s 5ms/step - loss: 0.9123 - accuracy: 0.7138\n",
      "Epoch 73/200\n",
      "19/19 [==============================] - 0s 5ms/step - loss: 0.9174 - accuracy: 0.7187\n",
      "Epoch 74/200\n",
      "19/19 [==============================] - 0s 5ms/step - loss: 0.8921 - accuracy: 0.7284\n",
      "Epoch 75/200\n",
      "19/19 [==============================] - 0s 5ms/step - loss: 0.9263 - accuracy: 0.7203\n",
      "Epoch 76/200\n",
      "19/19 [==============================] - 0s 4ms/step - loss: 0.9045 - accuracy: 0.7225\n",
      "Epoch 77/200\n",
      "19/19 [==============================] - 0s 5ms/step - loss: 0.9134 - accuracy: 0.7257\n",
      "Epoch 78/200\n",
      "19/19 [==============================] - 0s 5ms/step - loss: 0.9238 - accuracy: 0.7144\n",
      "Epoch 79/200\n",
      "19/19 [==============================] - 0s 5ms/step - loss: 0.9122 - accuracy: 0.7187\n",
      "Epoch 80/200\n",
      "19/19 [==============================] - 0s 5ms/step - loss: 0.9236 - accuracy: 0.7225\n",
      "Epoch 81/200\n",
      "19/19 [==============================] - 0s 5ms/step - loss: 0.9250 - accuracy: 0.7203\n",
      "Epoch 82/200\n",
      "19/19 [==============================] - 0s 5ms/step - loss: 0.8994 - accuracy: 0.7360\n",
      "Epoch 83/200\n",
      "19/19 [==============================] - 0s 5ms/step - loss: 0.8975 - accuracy: 0.7279\n",
      "Epoch 84/200\n",
      "19/19 [==============================] - 0s 4ms/step - loss: 0.9529 - accuracy: 0.7100\n",
      "Epoch 85/200\n",
      "19/19 [==============================] - 0s 4ms/step - loss: 0.9005 - accuracy: 0.7279\n",
      "Epoch 86/200\n",
      "19/19 [==============================] - 0s 4ms/step - loss: 0.8816 - accuracy: 0.7376\n",
      "Epoch 87/200\n",
      "19/19 [==============================] - 0s 4ms/step - loss: 0.8777 - accuracy: 0.7338\n",
      "Epoch 88/200\n",
      "19/19 [==============================] - 0s 5ms/step - loss: 0.9452 - accuracy: 0.7106\n",
      "Epoch 89/200\n",
      "19/19 [==============================] - 0s 5ms/step - loss: 0.9701 - accuracy: 0.6987\n",
      "Epoch 90/200\n",
      "19/19 [==============================] - 0s 4ms/step - loss: 0.8947 - accuracy: 0.7273\n",
      "Epoch 91/200\n",
      "19/19 [==============================] - 0s 5ms/step - loss: 0.8801 - accuracy: 0.7338\n",
      "Epoch 92/200\n",
      "19/19 [==============================] - 0s 5ms/step - loss: 0.8646 - accuracy: 0.7349\n",
      "Epoch 93/200\n",
      "19/19 [==============================] - 0s 5ms/step - loss: 0.8725 - accuracy: 0.7316\n",
      "Epoch 94/200\n",
      "19/19 [==============================] - 0s 5ms/step - loss: 0.9799 - accuracy: 0.6928\n",
      "Epoch 95/200\n",
      "19/19 [==============================] - 0s 5ms/step - loss: 0.9589 - accuracy: 0.6971\n",
      "Epoch 96/200\n",
      "19/19 [==============================] - 0s 5ms/step - loss: 0.9066 - accuracy: 0.7246\n",
      "Epoch 97/200\n",
      "19/19 [==============================] - 0s 4ms/step - loss: 0.8567 - accuracy: 0.7435\n",
      "Epoch 98/200\n",
      "19/19 [==============================] - 0s 4ms/step - loss: 0.8717 - accuracy: 0.7408\n",
      "Epoch 99/200\n",
      "19/19 [==============================] - 0s 4ms/step - loss: 0.8670 - accuracy: 0.7392\n",
      "Epoch 100/200\n",
      "19/19 [==============================] - 0s 4ms/step - loss: 0.8521 - accuracy: 0.7532\n",
      "Epoch 101/200\n",
      "19/19 [==============================] - 0s 4ms/step - loss: 0.8521 - accuracy: 0.7446\n",
      "Epoch 102/200\n",
      "19/19 [==============================] - 0s 4ms/step - loss: 0.8418 - accuracy: 0.7489\n",
      "Epoch 103/200\n",
      "19/19 [==============================] - 0s 4ms/step - loss: 0.8474 - accuracy: 0.7430\n",
      "Epoch 104/200\n",
      "19/19 [==============================] - 0s 4ms/step - loss: 0.9256 - accuracy: 0.7181\n",
      "Epoch 105/200\n",
      "19/19 [==============================] - 0s 4ms/step - loss: 0.9424 - accuracy: 0.7198\n",
      "Epoch 106/200\n",
      "19/19 [==============================] - 0s 4ms/step - loss: 0.8860 - accuracy: 0.7284\n",
      "Epoch 107/200\n",
      "19/19 [==============================] - 0s 4ms/step - loss: 0.8865 - accuracy: 0.7284\n",
      "Epoch 108/200\n",
      "19/19 [==============================] - 0s 4ms/step - loss: 0.8471 - accuracy: 0.7500\n",
      "Epoch 109/200\n",
      "19/19 [==============================] - 0s 4ms/step - loss: 0.8655 - accuracy: 0.7289\n",
      "Epoch 110/200\n",
      "19/19 [==============================] - 0s 4ms/step - loss: 0.8828 - accuracy: 0.7295\n",
      "Epoch 111/200\n",
      "19/19 [==============================] - 0s 4ms/step - loss: 0.8889 - accuracy: 0.7268\n",
      "Epoch 112/200\n",
      "19/19 [==============================] - 0s 4ms/step - loss: 0.9150 - accuracy: 0.7144\n",
      "Epoch 113/200\n",
      "19/19 [==============================] - 0s 4ms/step - loss: 0.8852 - accuracy: 0.7295\n",
      "Epoch 114/200\n",
      "19/19 [==============================] - 0s 4ms/step - loss: 0.8452 - accuracy: 0.7457\n",
      "Epoch 115/200\n",
      "19/19 [==============================] - 0s 5ms/step - loss: 0.8350 - accuracy: 0.7505\n",
      "Epoch 116/200\n",
      "19/19 [==============================] - 0s 4ms/step - loss: 0.8252 - accuracy: 0.7527\n",
      "Epoch 117/200\n",
      "19/19 [==============================] - 0s 4ms/step - loss: 0.8277 - accuracy: 0.7505\n",
      "Epoch 118/200\n",
      "19/19 [==============================] - 0s 4ms/step - loss: 0.8396 - accuracy: 0.7392\n",
      "Epoch 119/200\n",
      "19/19 [==============================] - 0s 4ms/step - loss: 0.8320 - accuracy: 0.7522\n",
      "Epoch 120/200\n",
      "19/19 [==============================] - 0s 5ms/step - loss: 0.8207 - accuracy: 0.7581\n",
      "Epoch 121/200\n",
      "19/19 [==============================] - 0s 4ms/step - loss: 0.8066 - accuracy: 0.7667\n",
      "Epoch 122/200\n",
      "19/19 [==============================] - 0s 4ms/step - loss: 0.8070 - accuracy: 0.7613\n",
      "Epoch 123/200\n",
      "19/19 [==============================] - 0s 5ms/step - loss: 0.8166 - accuracy: 0.7495\n",
      "Epoch 124/200\n",
      "19/19 [==============================] - 0s 4ms/step - loss: 0.8144 - accuracy: 0.7565\n",
      "Epoch 125/200\n",
      "19/19 [==============================] - 0s 5ms/step - loss: 0.8152 - accuracy: 0.7570\n",
      "Epoch 126/200\n",
      "19/19 [==============================] - 0s 4ms/step - loss: 0.8644 - accuracy: 0.7376\n",
      "Epoch 127/200\n",
      "19/19 [==============================] - 0s 4ms/step - loss: 0.8728 - accuracy: 0.7262\n",
      "Epoch 128/200\n",
      "19/19 [==============================] - 0s 4ms/step - loss: 0.8478 - accuracy: 0.7403\n",
      "Epoch 129/200\n",
      "19/19 [==============================] - 0s 4ms/step - loss: 0.8588 - accuracy: 0.7403\n",
      "Epoch 130/200\n",
      "19/19 [==============================] - 0s 4ms/step - loss: 0.8715 - accuracy: 0.7289\n",
      "Epoch 131/200\n",
      "19/19 [==============================] - 0s 4ms/step - loss: 0.8275 - accuracy: 0.7484\n",
      "Epoch 132/200\n",
      "19/19 [==============================] - 0s 4ms/step - loss: 0.8408 - accuracy: 0.7451\n",
      "Epoch 133/200\n",
      "19/19 [==============================] - 0s 4ms/step - loss: 0.8534 - accuracy: 0.7516\n",
      "Epoch 134/200\n",
      "19/19 [==============================] - 0s 5ms/step - loss: 0.8452 - accuracy: 0.7419\n",
      "Epoch 135/200\n",
      "19/19 [==============================] - 0s 4ms/step - loss: 0.8336 - accuracy: 0.7489\n",
      "Epoch 136/200\n",
      "19/19 [==============================] - 0s 4ms/step - loss: 0.8018 - accuracy: 0.7543\n",
      "Epoch 137/200\n",
      "19/19 [==============================] - 0s 4ms/step - loss: 0.7981 - accuracy: 0.7586\n",
      "Epoch 138/200\n",
      "19/19 [==============================] - 0s 4ms/step - loss: 0.8075 - accuracy: 0.7608\n",
      "Epoch 139/200\n",
      "19/19 [==============================] - 0s 4ms/step - loss: 0.8606 - accuracy: 0.7424\n",
      "Epoch 140/200\n",
      "19/19 [==============================] - 0s 4ms/step - loss: 0.8565 - accuracy: 0.7295\n",
      "Epoch 141/200\n",
      "19/19 [==============================] - 0s 4ms/step - loss: 0.8186 - accuracy: 0.7489\n",
      "Epoch 142/200\n",
      "19/19 [==============================] - 0s 4ms/step - loss: 0.8914 - accuracy: 0.7203\n",
      "Epoch 143/200\n",
      "19/19 [==============================] - 0s 4ms/step - loss: 0.8512 - accuracy: 0.7306\n",
      "Epoch 144/200\n",
      "19/19 [==============================] - 0s 4ms/step - loss: 0.8050 - accuracy: 0.7597\n",
      "Epoch 145/200\n",
      "19/19 [==============================] - 0s 4ms/step - loss: 0.7822 - accuracy: 0.7700\n",
      "Epoch 146/200\n",
      "19/19 [==============================] - 0s 4ms/step - loss: 0.7798 - accuracy: 0.7738\n",
      "Epoch 147/200\n",
      "19/19 [==============================] - 0s 4ms/step - loss: 0.8404 - accuracy: 0.7451\n",
      "Epoch 148/200\n",
      "19/19 [==============================] - 0s 4ms/step - loss: 0.8230 - accuracy: 0.7424\n",
      "Epoch 149/200\n",
      "19/19 [==============================] - 0s 4ms/step - loss: 0.8305 - accuracy: 0.7451\n",
      "Epoch 150/200\n",
      "19/19 [==============================] - 0s 5ms/step - loss: 0.7770 - accuracy: 0.7700\n",
      "Epoch 151/200\n",
      "19/19 [==============================] - 0s 4ms/step - loss: 0.7747 - accuracy: 0.7694\n",
      "Epoch 152/200\n",
      "19/19 [==============================] - 0s 4ms/step - loss: 0.7699 - accuracy: 0.7657\n",
      "Epoch 153/200\n",
      "19/19 [==============================] - 0s 4ms/step - loss: 0.7827 - accuracy: 0.7721\n",
      "Epoch 154/200\n",
      "19/19 [==============================] - 0s 4ms/step - loss: 0.7855 - accuracy: 0.7662\n",
      "Epoch 155/200\n",
      "19/19 [==============================] - 0s 4ms/step - loss: 0.7934 - accuracy: 0.7592\n",
      "Epoch 156/200\n",
      "19/19 [==============================] - 0s 4ms/step - loss: 0.8012 - accuracy: 0.7570\n",
      "Epoch 157/200\n",
      "19/19 [==============================] - 0s 4ms/step - loss: 0.8099 - accuracy: 0.7532\n",
      "Epoch 158/200\n",
      "19/19 [==============================] - 0s 4ms/step - loss: 0.7811 - accuracy: 0.7662\n",
      "Epoch 159/200\n",
      "19/19 [==============================] - 0s 4ms/step - loss: 0.8179 - accuracy: 0.7527\n",
      "Epoch 160/200\n",
      "19/19 [==============================] - 0s 4ms/step - loss: 0.7910 - accuracy: 0.7651\n",
      "Epoch 161/200\n",
      "19/19 [==============================] - 0s 4ms/step - loss: 0.7822 - accuracy: 0.7630\n",
      "Epoch 162/200\n",
      "19/19 [==============================] - 0s 4ms/step - loss: 0.7743 - accuracy: 0.7684\n",
      "Epoch 163/200\n",
      "19/19 [==============================] - 0s 4ms/step - loss: 0.7697 - accuracy: 0.7673\n",
      "Epoch 164/200\n",
      "19/19 [==============================] - 0s 4ms/step - loss: 0.8442 - accuracy: 0.7473\n",
      "Epoch 165/200\n",
      "19/19 [==============================] - 0s 4ms/step - loss: 0.9700 - accuracy: 0.6901\n",
      "Epoch 166/200\n",
      "19/19 [==============================] - 0s 5ms/step - loss: 0.8925 - accuracy: 0.7268\n",
      "Epoch 167/200\n",
      "19/19 [==============================] - 0s 4ms/step - loss: 0.9879 - accuracy: 0.6992\n",
      "Epoch 168/200\n",
      "19/19 [==============================] - 0s 4ms/step - loss: 0.8559 - accuracy: 0.7441\n",
      "Epoch 169/200\n",
      "19/19 [==============================] - 0s 4ms/step - loss: 0.7974 - accuracy: 0.7576\n",
      "Epoch 170/200\n",
      "19/19 [==============================] - 0s 4ms/step - loss: 0.7664 - accuracy: 0.7727\n",
      "Epoch 171/200\n",
      "19/19 [==============================] - 0s 4ms/step - loss: 0.7567 - accuracy: 0.7711\n",
      "Epoch 172/200\n",
      "19/19 [==============================] - 0s 4ms/step - loss: 0.7593 - accuracy: 0.7716\n",
      "Epoch 173/200\n",
      "19/19 [==============================] - 0s 4ms/step - loss: 0.7679 - accuracy: 0.7662\n",
      "Epoch 174/200\n",
      "19/19 [==============================] - 0s 5ms/step - loss: 0.7473 - accuracy: 0.7835\n",
      "Epoch 175/200\n",
      "19/19 [==============================] - 0s 4ms/step - loss: 0.7297 - accuracy: 0.7819\n",
      "Epoch 176/200\n",
      "19/19 [==============================] - 0s 4ms/step - loss: 0.7348 - accuracy: 0.7765\n",
      "Epoch 177/200\n",
      "19/19 [==============================] - 0s 4ms/step - loss: 0.7238 - accuracy: 0.7824\n",
      "Epoch 178/200\n",
      "19/19 [==============================] - 0s 4ms/step - loss: 0.7303 - accuracy: 0.7835\n",
      "Epoch 179/200\n",
      "19/19 [==============================] - 0s 4ms/step - loss: 0.7438 - accuracy: 0.7797\n",
      "Epoch 180/200\n",
      "19/19 [==============================] - 0s 4ms/step - loss: 0.7511 - accuracy: 0.7743\n",
      "Epoch 181/200\n",
      "19/19 [==============================] - 0s 5ms/step - loss: 0.7470 - accuracy: 0.7808\n",
      "Epoch 182/200\n",
      "19/19 [==============================] - 0s 4ms/step - loss: 0.7697 - accuracy: 0.7657\n",
      "Epoch 183/200\n",
      "19/19 [==============================] - 0s 4ms/step - loss: 0.7919 - accuracy: 0.7624\n",
      "Epoch 184/200\n",
      "19/19 [==============================] - 0s 4ms/step - loss: 0.7991 - accuracy: 0.7446\n",
      "Epoch 185/200\n",
      "19/19 [==============================] - 0s 4ms/step - loss: 0.8307 - accuracy: 0.7478\n",
      "Epoch 186/200\n",
      "19/19 [==============================] - 0s 4ms/step - loss: 0.8472 - accuracy: 0.7419\n",
      "Epoch 187/200\n",
      "19/19 [==============================] - 0s 4ms/step - loss: 0.8413 - accuracy: 0.7419\n",
      "Epoch 188/200\n",
      "19/19 [==============================] - 0s 4ms/step - loss: 0.7726 - accuracy: 0.7662\n",
      "Epoch 189/200\n",
      "19/19 [==============================] - 0s 4ms/step - loss: 0.7835 - accuracy: 0.7635\n",
      "Epoch 190/200\n",
      "19/19 [==============================] - 0s 4ms/step - loss: 0.7751 - accuracy: 0.7700\n",
      "Epoch 191/200\n",
      "19/19 [==============================] - 0s 4ms/step - loss: 0.7696 - accuracy: 0.7689\n",
      "Epoch 192/200\n",
      "19/19 [==============================] - 0s 4ms/step - loss: 0.7462 - accuracy: 0.7802\n",
      "Epoch 193/200\n",
      "19/19 [==============================] - 0s 4ms/step - loss: 0.7487 - accuracy: 0.7727\n",
      "Epoch 194/200\n",
      "19/19 [==============================] - 0s 4ms/step - loss: 0.7600 - accuracy: 0.7716\n",
      "Epoch 195/200\n",
      "19/19 [==============================] - 0s 4ms/step - loss: 0.7351 - accuracy: 0.7775\n",
      "Epoch 196/200\n",
      "19/19 [==============================] - 0s 5ms/step - loss: 0.7207 - accuracy: 0.7808\n",
      "Epoch 197/200\n",
      "19/19 [==============================] - 0s 4ms/step - loss: 0.7188 - accuracy: 0.7910\n",
      "Epoch 198/200\n",
      "19/19 [==============================] - 0s 4ms/step - loss: 0.7027 - accuracy: 0.7878\n",
      "Epoch 199/200\n",
      "19/19 [==============================] - 0s 4ms/step - loss: 0.7107 - accuracy: 0.7883\n",
      "Epoch 200/200\n",
      "19/19 [==============================] - 0s 4ms/step - loss: 0.7300 - accuracy: 0.7813\n"
     ]
    },
    {
     "data": {
      "text/plain": [
       "<keras.src.callbacks.History at 0x200ee720e90>"
      ]
     },
     "execution_count": 34,
     "metadata": {},
     "output_type": "execute_result"
    }
   ],
   "source": [
    "# train the model\n",
    "model.fit(X_train,y_train_category,batch_size=100,epochs=200)"
   ]
  },
  {
   "cell_type": "code",
   "execution_count": 24,
   "id": "0d832632-eb22-4d75-a751-3148e8190e37",
   "metadata": {},
   "outputs": [
    {
     "name": "stdout",
     "output_type": "stream",
     "text": [
      "58/58 [==============================] - 0s 1ms/step\n",
      "[ 9 25 18 ... 18 17  4]\n"
     ]
    }
   ],
   "source": [
    "# make prediction based on the training data\n",
    "y_train_predict = np.argmax(model.predict(X_train),1)\n",
    "print(y_train_predict)"
   ]
  },
  {
   "cell_type": "code",
   "execution_count": 25,
   "id": "506f8e1b-ee20-4bf1-a509-50b52df344e4",
   "metadata": {},
   "outputs": [
    {
     "name": "stdout",
     "output_type": "stream",
     "text": [
      "['n', 'r', 'e', ' ', ' ', ' ', 'r', ' ', 'o', 's', 'o', ' ', 'e', 'e', 'h', 'i', 'd', 'l', ' ', 'l', 't', 't', 'l', 't', 'h', 'e', 'n', 't', 'a', 'l', 'A', ' ', ',', 't', 't', 'e', 't', 'I', 't', ' ', 'o', 'n', ':', 'r', 't', 'h', ' ', 'n', 'u', 'i', 'n', 'v', 's', 's', 's', 'i', 'f', 't', 'h', 'e', 'e', 'l', 'h', 't', ' ', 'e', 'e', 't', 'i', ' ', 'h', 'e', 'd', 'h', 't', 'c', 'u', ' ', 'r', 'n', 'o', ' ', ' ', 's', ' ', 'a', ' ', 'r', ' ', ' ', 'h', 'j', 'i', ' ', 'b', 'i', 'n', ' ', ' ', 'r', ' ', 'r', ' ', 'n', 'r', 'n', ' ', 'n', 'i', 'd', 'Y', 't', ' ', 's', 's', 'e', 'a', 't', 'k', 'd', ' ', 'd', 'e', 'e', 'd', 'o', 's', 'r', 'h', 'h', 'e', ' ', ' ', 't', 'm', 'l', 'y', 'o', 'e', 't', 'd', 'h', 'r', 't', 't', 'r', 'l', 't', 't', ' ', 's', 'i', 'r', 'e', 'a', 's', 'n', 'n', 'n', 'h', 'n', 'o', ' ', 't', 'e', 'e', 't', 'e', 's', 'i', 's', 'n', 't', 'o', ' ', ' ', 't', 'e', 't', ' ', 'e', 'i', 'A', 'o', 'o', 'v', ' ', 's', 'b', 'l', 'd', 'o', 't', 'u', 's', 's', 't', 'h', 'r', 't', 't', 'h', 't', ' ', 'w', 't', ' ', 'b', 'e', 'd', 'r', 'g', ' ', 't', ' ', 'e', 's', 'e', ' ', 'e', 'c', 'r', 'e', 'l', 'h', 'c', ' ', 'c', 'h', 't', 's', 'g', 'h', ' ', 'd', ' ', 'D', 'e', 'a', 'm', 'o', 'e', 'e', 'f', 's', 'i', ' ', 's', 'c', 't', 'k', 'g', 'h', 'h', '-', 'e', 'e', 'N', 'h', 'e', 'i', 'n', 'e', 'i', ' ', 'h', 'e', 'a', 'g', ' ', 'e', ' ', 'e', 'I', 'G', 'd', 't', 'l', 'b', 'o', 's', 'n', 's', 'h', 'g', 'e', ' ', 'f', 'h', 't', ' ', ' ', ' ', 't', ' ', 't', ' ', 'n', ' ', 'h', 'l', 'e', 'o', 'l', 'f', 'r', ' ', 'p', ' ', 'i', ' ', 'l', ' ', ' ', 'r', 's', ' ', 'o', 'd', 'e', 'e', 'n', 't', 'h', 't', ' ', 'i', 'e', 'o', 'n', 'l', 'o', 'h', 'e', 't', 't', 'd', ' ', 'i', ' ', ' ', 'e', 't', ' ', 'r', 'l', 'Y', 'd', 'h', 't', 'g', 'i', 'n', ' ', 'n', ' ', 'b', 't', 'u', 'i', 'e', 'n', 'h', ' ', ' ', 'a', 's', 'd', ' ', 'a', 'r', 'i', 'o', ' ', 'd', ' ', 'e', ' ', 'a', 't', 'r', ' ', 'l', ' ', 'y', 'o', 'l', ' ', 's', 'n', 'n', ' ', 'e', 't', 'e', ' ', 'e', 'i', ' ', 's', 's', 'e', 'e', 'i', ',', ' ', 's', 'd', ' ', 'd', ' ', 'w', 'h', 't', 'o', 'h', 'l', ' ', 'w', 'y', 's', 'h', ' ', 'e', 'h', ',', 't', ' ', 'o', 'n', 'o', 'l', 'l', 't', 'a', 'd', 'S', 'e', 'i', 'i', 'h', 'r', 't', 'd', 'e', 'o', 'p', ' ', 'd', 't', 'e', 'w', 'e', 'u', ' ', 'r', ' ', 'o', 'n', ' ', 'e', 'c', 'h', 't', 'h', 'o', 'n', 'l', 'n', 'e', 'd', 'o', 'd', ' ', 'e', ',', 'z', 'e', ' ', 's', 's', 'b', ' ', 'o', 'l', 'a', ' ', 'l', 'f', ' ', ' ', 'n', 'h', 'n', 'r', 'n', 'e', 'h', 'e', 'l', 't', 's', 'n', 'n', 'e', 'n', 'h', 'a', ' ', '.', 's', 'e', 'i', 'e', 'u', 'h', 'e', 'i', ' ', 'a', '.', 'e', 'h', 'c', 'l', 'd', ' ', 'd', 's', ' ', ' ', 'a', 'l', 'l', 'l', ' ', 'u', 'e', 'h', ' ', ' ', 'n', ' ', 'd', 'd', 'o', 'f', 'i', ' ', 'd', ' ', 'o', 'l', 'e', 'n', 'd', ' ', 'n', 'g', 'e', 's', 't', 'h', 's', 'e', 'h', 'f', 'd', 'e', ' ', ' ', 'o', ' ', 'F', 'u', 'd', 'h', 'h', 'p', 'u', 'e', 'r', 'd', 'l', 'u', 'l', 'e', ' ', 'u', 'e', 'e', 's', 'l', 'e', 'r', 'e', 'l', 'A', 'l', 'e', 'h', 'o', 'f', ' ', 'o', 't', 'f', 'd', 'b', 't', ' ', 'e', ' ', 'g', 'e', ' ', 'h', 'e', 'y', 'o', 't', 'o', '.', ' ', 'e', 'l', 'w', 'e', 'o', 'd', 'n', ' ', 'b', 'l', 'i', 'e', ',', 'h', 'n', 'e', 'a', 'u', 't', 'g', ' ', 'h', 'd', 'o', 'e', 'd', 'n', 'l', ' ', ',', '.', 'e', ' ', 't', 'e', 's', 'i', 'e', 'l', 'r', 'y', 'i', 't', ' ', 'e', 'r', 'n', ' ', ' ', 'l', 'n', 'o', 'w', 'e', 's', 'n', 'i', 'd', 'o', 'w', 't', 'f', ' ', 'n', 'd', 'k', 'n', 'h', 'a', ' ', 's', 'h', ' ', 'e', 'h', 's', 't', ' ', 's', 'n', ',', 'e', 'i', ' ', 't', 'o', 'e', 'o', ' ', 'n', 'e', 'n', ' ', 'l', 'b', ' ', 'e', ' ', 'i', 'u', 'e', ' ', 'e', ' ', 't', 'o', 'n', ' ', 'q', 'e', 'h', ' ', 'r', ' ', 'r', 'e', 'e', 'g', ' ', 'e', 'h', 'i', 'r', 't', 'h', 'o', ' ', 'x', 's', 'u', 'a', 'n', 'u', 'l', 't', 'e', 'e', 'd', 'n', 'u', ' ', 'f', 'g', 'r', ' ', 'n', 'u', 'u', ' ', ' ', 'l', 'o', 'h', 'z', 'e', 'l', ' ', 'e', 'u', 'e', 'd', 'l', ',', 's', 'a', 'c', 'd', 'd', 'l', 'n', 'e', ' ', 'h', 'e', ' ', 'e', 'u', 'r', 'n', ' ', 't', 'o', 's', 'n', ' ', 'e', \"'\", 'e', 'n', 'n', ' ', 't', 'e', ' ', 't', 's', 's', 'd', 'e', 'h', ' ', ' ', 'n', 't', 'n', ' ', ',', ' ', 'e', 'o', 'n', ' ', 't', 'o', 't', ' ', 'f', 's', 'f', 's', 'e', ' ', 'n', 'e', 'b', 'i', 'd', 't', 'i', ' ', 'h', 'g', 'y', 'o', 's', 'e', ' ', ' ', 'g', 'w', 'l', 's', ' ', 'e', 'e', 'd', 's', 'l', 'n', 't', 't', ' ', ' ', 'o', 't', 't', 'o', ' ', 'n', 'a', 'i', 'w', 's', 't', 'e', 'h', 'e', 'a', 'o', 't', ' ', 'a', ' ', 's', 's', 'h', 'f', ' ', 'h', 'h', 'i', 'n', 'h', 'e', ' ', 'i', 'u', 'd', 'e', 'i', ' ', 'n', 'o', 'n', 'h', 'r', 'l', 'o', 'n', 's', 'e', 's', 't', 'l', 'h', 'd', 'i', 'r', 'o', 'd', 'e', 'n', 's', 'l', 'n', 'n', 'e', 'd', 'o', 's', 'i', 'j', 'v', 'f', 'n', 'e', 'e', 'l', 'e', 'a', 'a', 'r', 'e', 'e', 'n', 'e', 'C', ',', 'g', 'g', 'd', 'o', 'd', 'u', 's', 'o', 's', 's', 'l', 't', ' ', 'u', ' ', 'e', 'r', 't', ' ', ' ', 'l', '\"', ' ', 'h', 'o', 's', 'e', 'a', 't', 'o', 'h', 't', ' ', 'u', ' ', 's', '.', 'i', 'l', 'n', 'o', ' ', 't', 'g', 'n', 'o', ' ', 'l', 'i', ' ', 'o', 'n', 'e', ' ', 'h', ' ', 'h', 't', 'r', 'w', 'u', ' ', 't', 't', 'h', ' ', 'i', 'e', 'o', 'g', 'b', 't', 'g', 'n', 'u', 'a', 'l', 't', 'o', 'n', 'o', 'u', 'l', 't', ' ', 's', 'o', 'o', 'd', 'l', 'P', ' ', 'n', ' ', ' ', 's', 'e', 'o', ' ', 'u', ' ', 'd', 'o', 'a', 'a', 'B', 'i', 'o', 'i', 'd', 'n', ' ', ' ', 'h', 'n', 'r', 'r', 'e', 'o', 'h', 'l', 'o', 'r', 'r', 'k', 'u', 't', 'e', 'd', ' ', 'l', ' ', ' ', 'e', ' ', 'c', ' ', ' ', 'n', 'h', ' ', ' ', 'f', 'w', 'h', ' ', 'e', ' ', 't', 'n', 'h', 'i', 'f', 'n', 'o', 't', 'o', 'd', 'u', 'n', 'e', 'b', 'd', 'o', 't', 'i', 'r', 's', 't', 'A', 'd', 'o', 'e', 'e', 'h', 'u', 'e', ' ', 'u', 'e', 'u', 'r', ' ', 'r', 't', 'e', 'h', 'h', 's', 'n', ' ', 'l', 'p', 'd', 'd', ' ', 't', 'e', ',', 's', 'l', 'f', 'o', 'h', 'l', 'e', 'd', 'e', ' ', 'n', ' ', 't', 'e', 'd', 'n', 'i', 'e', 't', 'u', ' ', 'e', 'n', 'g', 'f', ' ', ' ', ' ', 'e', 'I', 'e', 'u', 'i', 'e', 'e', 'g', 'a', ' ', 'n', 't', 's', 'n', 'h', 's', 'd', 'o', 'l', 's', 'r', 'h', 'e', 'd', ' ', 'e', 'e', 'k', ' ', 'e', 'n', 'o', 'l', 'd', 't', 'g', 'e', ',', 'n', 'i', 'd', 'o', 'e', 'd', ' ', 'h', 't', 'd', 'l', 'o', 'e', ' ', 'O', 'i', 'n', ' ', 't', 'd', ' ', 'n', 'e', 'l', ' ', 'n', 'i', 'u', 's', 'n', 'n', ' ', 's', 'g', 'l', 'g', 'l', 'e', 'i', 'a', ' ', 'r', 'e', 'l', 'e', 'e', 'g', 'o', ' ', 'h', 'o', 'd', ' ', ' ', 't', 'e', 'l', ' ', 'e', 'e', 't', 'w', 'l', 'e', 'e', 'e', 'o', 'h', ' ', ' ', ' ', ' ', ' ', 'i', 'v', 'n', 't', ' ', 'd', 'i', 'i', ' ', 'c', 't', 'o', 'l', 'd', 'n', 'e', 'l', 'i', 'l', 'a', 'l', 'l', 'u', 'n', 'i', 'd', 's', 't', 'e', 'e', 'i', ' ', 'g', 'g', ' ', 'r', 's', 'e', 'r', 'e', 'i', ' ', 'e', 'r', 'e', ' ', ' ', 'i', 'g', ' ', ' ', 't', ' ', 'u', 'l', 'h', 'l', 'e', 'e', 'r', ' ', 'e', 'S', ' ', 'c', 't', 'h', 's', 't', ' ', 'y', 't', ' ', 'e', 'e', 'c', 'h', 'l', 'a', 'o', 'k', 'h', 'e', 'i', 'l', 'o', 'A', 'n', 't', ' ', 'e', 'r', 'l', 's', ' ', 'u', 'h', 'e', 'h', ' ', ' ', 'e', 'A', 'h', 't', ' ', 'd', ' ', 'n', 't', 'l', 'i', 't', 'h', 'a', 'd', 'l', 'i', 'o', 'b', 'i', 'd', 'e', 'a', 'e', 't', 'e', 'd', 'e', 's', 'r', 'y', 'i', 'j', 'h', ' ', 'h', 'p', ' ', 'o', ' ', 'r', ' ', ' ', 't', ' ', 'e', 'v', 'o', 'l', 't', 'r', 't', 'i', 'I', ' ', 's', ' ', ' ', ' ', 'u', 't', 'e', 's', 'h', 'e', 'e', ' ', 'e', 'A', 'a', 't', 'o', 'i', 'n', 'T', 'r', ' ', 'i', ' ', 'h', 't', 'u', 'g', 'n', ' ', 'd', 'd', 'l', 'o', 'i', 'e', ' ', ' ', ' ', ' ', ' ', 'p', 'h', ' ', 't', 's', 'u', 'd', 'i', 'e', 't', 'd', 't', 's', ' ', 'n', ' ', 't', ':', 'f', 'r', 'h', 'a', 'a', ' ', 'd', 's', 'i', ' ', ' ', ' ', 'e', 'u', 'o', 't', 'p', 'i', ' ', 'a', 'h', 'd', 's', ' ', 'e', 'S', ' ', 'r', 't', 'h', ' ', 'n', ' ', 'u', 'd', 'g', 'e', ' ', 't', 'c', ' ', 'h', 'e', 'e', ' ', ' ', 'r', 'l', 'h', 'v', 'l', ' ', 'l', 'w', ' ', 's', 'w', 'd', 'h', ' ', ' ', 's', ' ', 't', 'w', 'a', 'r', ' ', 'g', 'd', 'n', 'd', 'i', 'd', 'e', ' ', 'h', 'r', 'n', 't', ' ', 'd', 'r', 'l', 'd', ',', 'd', 'a', ' ', ' ', 'n', 'n', 'i', 'a', 'a', 'd', 'o', 's', ' ', 'r', 'n', 't', 'y', 't', 'e', 'e', 'r', 'e', 'e', 'd', 'a', 'g', 'e', 'e', 'A', 'r', 'a', 'u', 'g', 'e', 'o', ' ', 'o', ' ', 'e', 'h', 't', ' ', 'e', 'h', 'u', 't', 'd', 'e', 't', 's', 'o', 'u', 'a', 't', 't', ' ', 'd', 'l', 'n', 'r', ' ', 'd', 'a', ' ', ' ', 's', 'e', 'p', 'o', 'h', 'n', 't', 'd', 'r', ' ', 'r', 'b', 's', 'e', 'A', 'd', 'l', ' ', 'i', 't', 'e', 'l', 'L', 'e', 'e', 's', 'n', ' ', 'i', ' ', 'i', 'n', 't', '\"', ' ', 'e', ' ', ' ', 'n', 'l', ' ', 's', 'l', 'h', 't', ' ', 'n', 'a', 'e', 'o', 'r', 'e', ' ', 'a', 'i', ' ', 'i', 'o', 'e', 'e', 'e', 'f', 'o', ' ', 'e', 'p', 'h', 's', 'e', 'o', 'e', 'n', 'w', 'e', 'd', ' ', 'l', 'l', 'e', 'n', 's', '.', 'd', 'd', 'S', 's', 'h', 'u', 'r', 'c', '.', 'f', 'e', ' ', 'i', 'l', ' ', 'h', 'b', 'g', 'n', 'l', 'l', 'i', 'n', 'l', 'b', 's', 'o', 'g', 't', 't', ' ', 'l', 'e', 'h', ' ', ' ', 'o', 'n', 't', 'e', 'u', ' ', ' ', ' ', 'n', 'h', ' ', 'r', 'c', 'y', ' ', ' ', ' ', 'r', 'w', 't', 'e', 'r', 'i', 'e', 'd', 'B', 's', ' ', ' ', 'o', 't', 'l', 'b', 'k', ' ', 'n', 'e', ' ', 's', 'l', 'd', 'g', 'n', 'a', 'o', ',', ' ', 'o', 't', 'c', 'a', 'u', 'l', 'h', 'a', 't', 'g', ' ', ' ', 'e', ',', 'e', 'O', 'a', 'i', 'e', 'i', ' ']\n"
     ]
    }
   ],
   "source": [
    "# trainsform the int to letters\n",
    "y_train_predict_char = [int_to_char[i] for i in y_train_predict]\n",
    "print(y_train_predict_char)"
   ]
  },
  {
   "cell_type": "code",
   "execution_count": 26,
   "id": "f50dab99-2e6f-4b20-acce-59853c8f90db",
   "metadata": {},
   "outputs": [
    {
     "name": "stdout",
     "output_type": "stream",
     "text": [
      "0.6830453563714903\n"
     ]
    }
   ],
   "source": [
    "from sklearn.metrics import accuracy_score\n",
    "accuracy = accuracy_score(y_train,y_train_predict)\n",
    "print(accuracy)"
   ]
  },
  {
   "cell_type": "code",
   "execution_count": 27,
   "id": "a6283f99-e130-428f-bd1d-ff8d95922512",
   "metadata": {},
   "outputs": [
    {
     "name": "stdout",
     "output_type": "stream",
     "text": [
      "7/7 [==============================] - 0s 2ms/step\n",
      "0.3446601941747573\n",
      "[18 17 30  4 10 18 23 14  4 23 18 18 18  4  4 14 18 14 31  9 30 30 15 30\n",
      " 31 15  4 26 23  4 18  2  2 35 31 18 23  9  9 33 25 18 13 18 26 23 30 22\n",
      " 17 18  4 23  4  4 18 15  9  2 18  2 30  4 30 22 23 47  9 14 30  4 18 32\n",
      " 30 14  4 30 22  4 22 10  2 14  2  8  4  2 13 31  4  2  9 32  9  4 23  9\n",
      "  4  9  9 22 14 31 31 22 18 13  4 18 35 30  4  4 18 23  9 20 47 31  9  4\n",
      " 18 18 23  4 22  2 22 15 14 18 25 18 23  8 22 14 18 31  4 13  4  2  4 23\n",
      "  4 23 31 18 18 25 30 30 33 18  4  4 32 23 18 17 25 30  4  4 32  4  9 18\n",
      " 31 17 18  8  9  4 18 31 14  9  2 18  8 14  2 14 14 15 14  9  4 21 38 18\n",
      " 14 30 18  4 30 14 18 20 25  4  4 18 18  2]\n",
      "[18, 4, 26, 8, 26, 18, 45, 10, 4, 25, 31, 18, 22, 4, 4, 32, 32, 14, 32, 4, 14, 21, 31, 17, 18, 26, 4, 4, 32, 18, 17, 2, 5, 40, 31, 18, 23, 22, 11, 6, 47, 14, 44, 26, 2, 14, 4, 30, 18, 30, 4, 23, 4, 4, 18, 30, 19, 2, 18, 32, 44, 4, 14, 15, 32, 31, 9, 31, 4, 4, 4, 18, 2, 21, 4, 4, 9, 4, 14, 10, 30, 31, 32, 35, 4, 30, 13, 31, 4, 14, 25, 22, 30, 4, 23, 4, 4, 41, 25, 22, 14, 3, 18, 21, 32, 18, 19, 18, 22, 31, 4, 4, 18, 2, 10, 20, 4, 31, 9, 4, 14, 18, 23, 4, 4, 26, 20, 15, 18, 44, 47, 25, 23, 20, 2, 18, 31, 10, 23, 21, 18, 26, 4, 15, 4, 22, 0, 15, 30, 32, 5, 30, 28, 18, 8, 4, 47, 25, 17, 18, 17, 26, 4, 4, 32, 4, 22, 32, 30, 47, 5, 4, 4, 2, 18, 14, 25, 9, 14, 32, 4, 31, 13, 14, 14, 10, 14, 10, 25, 21, 4, 18, 4, 31, 18, 4, 30, 15, 18, 22, 25, 4, 25, 18, 18, 23]\n"
     ]
    }
   ],
   "source": [
    "y_test_predict = np.argmax(model.predict(X_test),1)\n",
    "accuracy_test = accuracy_score(y_test,y_test_predict)\n",
    "print(accuracy_test)\n",
    "print(y_test_predict)\n",
    "print(y_test)"
   ]
  },
  {
   "cell_type": "code",
   "execution_count": 35,
   "id": "6771068b-0883-4ab1-8681-3771b4a67c85",
   "metadata": {},
   "outputs": [
    {
     "name": "stdout",
     "output_type": "stream",
     "text": [
      "2/2 [==============================] - 0s 2ms/step\n",
      "[17 47 13 31 30  4 30 31 32 30  4  2 31 41 10 17  2  2  4 10 32 25 22 23\n",
      "  4 32 18 18  9 13  4 30 18 25  4 30 18 22 30 17  9 13  2  8]\n"
     ]
    }
   ],
   "source": [
    "new_letters = 'Alison had always thought that success would bring her happiness'\n",
    "X_new, y_new = data_preprocessing(new_letters,time_step,num_letters,char_to_int)\n",
    "y_new_predict = np.argmax(model.predict(X_new),1)\n",
    "print(y_new_predict)"
   ]
  },
  {
   "cell_type": "code",
   "execution_count": 36,
   "id": "2835efcf-1b4a-44c0-b8c7-28e5137b0a6e",
   "metadata": {},
   "outputs": [
    {
     "name": "stdout",
     "output_type": "stream",
     "text": [
      "['i', 'u', 'g', 'h', 't', ' ', 't', 'h', 'a', 't', ' ', 's', 'h', 'm', 'c', 'i', 's', 's', ' ', 'c', 'a', 'r', 'l', 'd', ' ', 'a', 'e', 'e', 'n', 'g', ' ', 't', 'e', 'r', ' ', 't', 'e', 'l', 't', 'i', 'n', 'g', 's', ',']\n"
     ]
    }
   ],
   "source": [
    "y_new_predict_char = [int_to_char[i] for i in y_new_predict ]\n",
    "print(y_new_predict_char)"
   ]
  },
  {
   "cell_type": "code",
   "execution_count": 37,
   "id": "458c6e4a-50ea-402a-849c-99128de63548",
   "metadata": {},
   "outputs": [
    {
     "name": "stdout",
     "output_type": "stream",
     "text": [
      "Alison had always th --predict next letter is -- i\n",
      "lison had always tho --predict next letter is -- u\n",
      "ison had always thou --predict next letter is -- g\n",
      "son had always thoug --predict next letter is -- h\n",
      "on had always though --predict next letter is -- t\n",
      "n had always thought --predict next letter is --  \n",
      " had always thought  --predict next letter is -- t\n",
      "had always thought t --predict next letter is -- h\n",
      "ad always thought th --predict next letter is -- a\n",
      "d always thought tha --predict next letter is -- t\n",
      " always thought that --predict next letter is --  \n",
      "always thought that  --predict next letter is -- s\n",
      "lways thought that s --predict next letter is -- h\n",
      "ways thought that su --predict next letter is -- m\n",
      "ays thought that suc --predict next letter is -- c\n",
      "ys thought that succ --predict next letter is -- i\n",
      "s thought that succe --predict next letter is -- s\n",
      " thought that succes --predict next letter is -- s\n",
      "thought that success --predict next letter is --  \n",
      "hought that success  --predict next letter is -- c\n",
      "ought that success w --predict next letter is -- a\n",
      "ught that success wo --predict next letter is -- r\n",
      "ght that success wou --predict next letter is -- l\n",
      "ht that success woul --predict next letter is -- d\n"
     ]
    }
   ],
   "source": [
    "for i in range(0,X_new.shape[0]-20):\n",
    "    print(new_letters[i:i+20],'--predict next letter is --',y_new_predict_char[i])"
   ]
  },
  {
   "cell_type": "markdown",
   "id": "a09631ea-71d3-444c-a60e-f6cf26cf27ec",
   "metadata": {},
   "source": [
    "LSTM文本生成实战summary:\n",
    "1、通过搭建LSTM模型，实现了基于文本序列的字符生成功能\n",
    "2、学习了文本加载、字典生成方法;\n",
    "3、掌握文本的数据预处理方法，并熟悉了转化数据的结构:\n",
    "4、实现了对新文本数据的字符预测"
   ]
  }
 ],
 "metadata": {
  "kernelspec": {
   "display_name": "Python 3 (ipykernel)",
   "language": "python",
   "name": "python3"
  },
  "language_info": {
   "codemirror_mode": {
    "name": "ipython",
    "version": 3
   },
   "file_extension": ".py",
   "mimetype": "text/x-python",
   "name": "python",
   "nbconvert_exporter": "python",
   "pygments_lexer": "ipython3",
   "version": "3.11.5"
  }
 },
 "nbformat": 4,
 "nbformat_minor": 5
}
