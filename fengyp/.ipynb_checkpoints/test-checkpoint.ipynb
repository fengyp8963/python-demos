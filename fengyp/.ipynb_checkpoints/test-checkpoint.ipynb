{
 "cells": [
  {
   "cell_type": "markdown",
   "id": "13d56dcd-3d6e-402e-8350-4c20abc0f358",
   "metadata": {
    "editable": true,
    "slideshow": {
     "slide_type": ""
    },
    "tags": []
   },
   "source": [
    "Python:\n",
    "Python 是一种高级编程语言，具有简洁的语法和强大的生态系统。\n",
    "Python 在数据科学、机器学习、Web开发、自动化等领域广泛应用。\n",
    "\n",
    "Jupyer:\n",
    "Jupyter 是一个交互式计算环境，支持多种编程语言，但最常用的是 Python。\n",
    "Jupyter 提供 Jupyter Notebook，这是一个用于创建和共享交互性文档的应用程序，允许您在文档中编写代码、文本和可视化。\n",
    "您可以使用 Jupyter Notebook 来执行 Python 代码并创建数据分析报告、学# 习\n",
    "\n",
    "naconda:\n",
    "Anaconda 是一个数据科学和机器学习的开源发行版，附带了众多数据科学工具和库，包括 Python。\n",
    "Anaconda 提供了 Conda 包管理器，用于创建、管理和切换不同的 Python 环境。\n",
    "Anaconda 还包括 Jupyter Notebook，使其更容易与 Python 和# 数据科学库一起## 使用。\n",
    "\n",
    "NumPy:\n",
    "NumPy（Numerical Python）是用于科学计算的基础包，提供了对多维数组和矩阵的支持。\n",
    "它包括数学函数，允许您在数组上进行各种数学操作，如线性代数、 傅立叶变换、随机数生成等。\n",
    "NumPy 是许多其他数据科学库的基础，特别是 pandas  和 matplotlib。\n",
    "\n",
    "Pandas:\n",
    "Pandas 是一个数据分析库，提供了数据结构和数据分析工具，使数据清洗## 、数据分析和数据可视化变得更容易。\n",
    "它引入了两种主要数据结构：Series（一维数据）和 DataFrame（ 二维表格型数据），使数据处理更高效。\n",
    "Pandas 允许您进行数据加载、数据处理、数# 据聚合、缺失值处理、时间序列等操作。\n",
    "\n",
    "Matplotlib:\n",
    "Matplotlib 是一个用于创建可视化图表和图形的绘图库，支持绘制折线图、散点图、柱状图、饼图、热力图等。\n",
    "它允许您自定义图表的外观，包颜色、线型、标签等，以便展示数据的可视化结果。\n",
    "色、线型、标签等，以便展示数据的可视化结果。\r\n"
   ]
  },
  {
   "cell_type": "code",
   "execution_count": 31,
   "id": "73528c1e-9acd-4e0c-a7ab-3b875c6e7411",
   "metadata": {
    "editable": true,
    "slideshow": {
     "slide_type": ""
    },
    "tags": []
   },
   "outputs": [
    {
     "name": "stdout",
     "output_type": "stream",
     "text": [
      "3\n"
     ]
    }
   ],
   "source": [
    "a=1\n",
    "b=2\n",
    "print(a+b)"
   ]
  },
  {
   "cell_type": "code",
   "execution_count": 170,
   "id": "706134c8-fac1-452c-9ba9-0b5fd30a8aaa",
   "metadata": {},
   "outputs": [
    {
     "name": "stdout",
     "output_type": "stream",
     "text": [
      "[1, 2, 3, 4, 5] [2, 3, 4, 5, 6]\n"
     ]
    }
   ],
   "source": [
    "a=[1,2,3,4,5]\n",
    "b=[2,3,4,5,6]\n",
    "print(a,b)"
   ]
  },
  {
   "cell_type": "code",
   "execution_count": 171,
   "id": "3090ca21-1d11-47e5-a59b-c84c0080f188",
   "metadata": {},
   "outputs": [],
   "source": [
    "c =1"
   ]
  },
  {
   "cell_type": "code",
   "execution_count": 172,
   "id": "96a04bc7-95ce-4b64-a843-3f874df2e16b",
   "metadata": {},
   "outputs": [
    {
     "name": "stdout",
     "output_type": "stream",
     "text": [
      "[1, 2, 3, 4, 5, 2, 3, 4, 5, 6]\n"
     ]
    }
   ],
   "source": [
    "print(a+b)"
   ]
  },
  {
   "cell_type": "code",
   "execution_count": 173,
   "id": "dd4c9c36-c411-472e-bbe0-7f988436ed0d",
   "metadata": {},
   "outputs": [],
   "source": [
    "def sum(x,y):\n",
    "    a = x+y\n",
    "    return a"
   ]
  },
  {
   "cell_type": "code",
   "execution_count": 174,
   "id": "cd995de5-7389-469a-99c9-f07867ff29b1",
   "metadata": {},
   "outputs": [
    {
     "name": "stdout",
     "output_type": "stream",
     "text": [
      "3\n"
     ]
    }
   ],
   "source": [
    "print(sum(1,2))"
   ]
  },
  {
   "cell_type": "code",
   "execution_count": 175,
   "id": "0f158d05-a629-4413-83c2-2dfcbb75ac65",
   "metadata": {},
   "outputs": [
    {
     "name": "stdout",
     "output_type": "stream",
     "text": [
      "300\n"
     ]
    }
   ],
   "source": [
    "print(sum(100,200))"
   ]
  },
  {
   "cell_type": "code",
   "execution_count": 176,
   "id": "2722f3f1-0715-469e-95ad-dad911f0eb1a",
   "metadata": {},
   "outputs": [],
   "source": [
    "import random\n",
    "a = random.random()"
   ]
  },
  {
   "cell_type": "code",
   "execution_count": 177,
   "id": "1c101319-3b20-42c1-8a0c-9e07d23fcd0d",
   "metadata": {},
   "outputs": [
    {
     "name": "stdout",
     "output_type": "stream",
     "text": [
      "0.18168492143434922\n"
     ]
    }
   ],
   "source": [
    "print(a)"
   ]
  },
  {
   "cell_type": "code",
   "execution_count": 178,
   "id": "df3d5859-8242-4bf9-bad2-1e35516cf16d",
   "metadata": {},
   "outputs": [
    {
     "name": "stdout",
     "output_type": "stream",
     "text": [
      "[11, 12, 13, 14]\n"
     ]
    }
   ],
   "source": [
    "b = [x+10 for x in [1,2,3,4]]\n",
    "print(b)"
   ]
  },
  {
   "cell_type": "code",
   "execution_count": 179,
   "id": "e958112e-bb0a-41c8-82a2-fb3bb4610b15",
   "metadata": {},
   "outputs": [
    {
     "name": "stdout",
     "output_type": "stream",
     "text": [
      "[100, 101, 102, 103, 104, 105, 106, 107, 108, 109]\n"
     ]
    }
   ],
   "source": [
    "c=[x+100 for x in range(10)]\n",
    "print(c)"
   ]
  },
  {
   "cell_type": "code",
   "execution_count": 23,
   "id": "c94ee7b6-c674-416c-8a8a-b22830ce3878",
   "metadata": {},
   "outputs": [
    {
     "data": {
      "image/png": "[encoded data removed]",
      "text/plain": [
       "<Figure size 640x480 with 1 Axes>"
      ]
     },
     "metadata": {},
     "output_type": "display_data"
    }
   ],
   "source": [
    "# 1,matplotlib 的使用\n",
    "%matplotlib inline\n",
    "import matplotlib.pyplot as plt\n",
    "x=[1,2,3,4]\n",
    "y=[2,3,4,5]\n",
    "# plt.plot(x,y)\n",
    "plt.scatter(x, y)\n",
    "# plt.title(\"x vs y\")\n",
    "# plt.xlabel(\"x\")\n",
    "# plt.ylabel(\"y\")\n",
    "plt.show()"
   ]
  },
  {
   "cell_type": "code",
   "execution_count": 19,
   "id": "267e844a-c688-4e90-b545-f76dfc4916f3",
   "metadata": {},
   "outputs": [
    {
     "name": "stdout",
     "output_type": "stream",
     "text": [
      "<class 'numpy.ndarray'> [[ 0  1  2  3  4]\n",
      " [ 5  6  7  8  9]\n",
      " [10 11 12 13 14]]\n"
     ]
    }
   ],
   "source": [
    "# 2,numpy 的使用\n",
    "import numpy as np\n",
    "a = np.arange(15).reshape(3, 5)\n",
    "print(type(a),a)"
   ]
  },
  {
   "cell_type": "code",
   "execution_count": 159,
   "id": "7dc232da-d71a-4b25-97c5-164d20acb2f5",
   "metadata": {},
   "outputs": [
    {
     "name": "stdout",
     "output_type": "stream",
     "text": [
      "[[1. 0. 0.]\n",
      " [0. 1. 0.]\n",
      " [0. 0. 1.]]\n"
     ]
    }
   ],
   "source": [
    "eye_matrix = np.eye(3)\n",
    "print(eye_matrix)\n"
   ]
  },
  {
   "cell_type": "code",
   "execution_count": 160,
   "id": "3e89054f-1088-4771-833f-23fd1c9acffa",
   "metadata": {},
   "outputs": [
    {
     "name": "stdout",
     "output_type": "stream",
     "text": [
      "[[0. 0. 0.]\n",
      " [0. 0. 0.]\n",
      " [0. 0. 0.]]\n"
     ]
    }
   ],
   "source": [
    "zeros_matrix = np.zeros((3, 3))\n",
    "print(zeros_matrix)"
   ]
  },
  {
   "cell_type": "code",
   "execution_count": 161,
   "id": "a42ac4b7-ea52-458b-ba03-6b94e9afeccb",
   "metadata": {},
   "outputs": [
    {
     "name": "stdout",
     "output_type": "stream",
     "text": [
      "[[1. 1. 1.]\n",
      " [1. 1. 1.]\n",
      " [1. 1. 1.]]\n"
     ]
    }
   ],
   "source": [
    "ones_matrix = np.ones((3,3))\n",
    "print(ones_matrix)"
   ]
  },
  {
   "cell_type": "code",
   "execution_count": 162,
   "id": "ceb5547d-040c-4654-b214-3d3815dc0862",
   "metadata": {},
   "outputs": [
    {
     "name": "stdout",
     "output_type": "stream",
     "text": [
      "[[2. 1. 1.]\n",
      " [1. 2. 1.]\n",
      " [1. 1. 2.]]\n"
     ]
    }
   ],
   "source": [
    "print(eye_matrix+ones_matrix)"
   ]
  },
  {
   "cell_type": "code",
   "execution_count": 2,
   "id": "002b8f3a-dbd8-4a85-8182-fd6131097c37",
   "metadata": {},
   "outputs": [
    {
     "name": "stdout",
     "output_type": "stream",
     "text": [
      "<class 'pandas.core.frame.DataFrame'>     x    y\n",
      "0 -10  100\n",
      "1  -9   81\n",
      "2  -8   64\n",
      "3  -7   49\n",
      "4  -6   36\n",
      "5  -5   25\n",
      "6  -4   16\n",
      "7  -3    9\n",
      "8  -2    4\n",
      "9  -1    1\n"
     ]
    }
   ],
   "source": [
    "# 3,pandas 的使用\n",
    "import pandas as pd\n",
    "data = pd.read_csv(\"test_data.csv\")\n",
    "print(type(data),data)"
   ]
  },
  {
   "cell_type": "code",
   "execution_count": 11,
   "id": "0d97109c-0249-4ae5-85af-44b8c2a51332",
   "metadata": {},
   "outputs": [
    {
     "name": "stdout",
     "output_type": "stream",
     "text": [
      "      Name  Age\n",
      "0    Alice   25\n",
      "1      Bob   30\n",
      "2  Charlie   35\n",
      "3    David   40\n"
     ]
    }
   ],
   "source": [
    "# 创建一个简单的数据帧\n",
    "data = {'Name': ['Alice', 'Bob', 'Charlie', 'David'],\n",
    "        'Age': [25, 30, 35, 40]}\n",
    "df = pd.DataFrame(data)\n",
    "\n",
    "print(df)"
   ]
  },
  {
   "cell_type": "code",
   "execution_count": 12,
   "id": "17176b4c-f7e3-4708-b48e-e08100dccfe6",
   "metadata": {},
   "outputs": [
    {
     "name": "stdout",
     "output_type": "stream",
     "text": [
      "{'Name': ['Alice', 'Bob', 'Charlie', 'David'], 'Age': [25, 30, 35, 40]}\n"
     ]
    }
   ],
   "source": [
    "names = data\n",
    "print(names)"
   ]
  },
  {
   "cell_type": "code",
   "execution_count": 13,
   "id": "75214354-20ba-47fa-a481-2580fbb88895",
   "metadata": {},
   "outputs": [
    {
     "name": "stdout",
     "output_type": "stream",
     "text": [
      "0      Alice\n",
      "1        Bob\n",
      "2    Charlie\n",
      "3      David\n",
      "Name: Name, dtype: object Name    Alice\n",
      "Age        25\n",
      "Name: 0, dtype: object 30\n"
     ]
    }
   ],
   "source": [
    "# 访问某一列\n",
    "names = df['Name']\n",
    "# 访问某一行\n",
    "row = df.loc[0]\n",
    "# 访问某一单元格\n",
    "age = df.at[1, 'Age']\n",
    "print(names,row,age)"
   ]
  },
  {
   "cell_type": "code",
   "execution_count": 14,
   "id": "e3b55491-e244-49b1-b4a2-422016389260",
   "metadata": {},
   "outputs": [
    {
     "name": "stdout",
     "output_type": "stream",
     "text": [
      "      Name  Age\n",
      "2  Charlie   35\n",
      "3    David   40\n"
     ]
    }
   ],
   "source": [
    "filtered_df = df[df['Age'] > 30]\n",
    "\n",
    "print(filtered_df)"
   ]
  },
  {
   "cell_type": "code",
   "execution_count": 15,
   "id": "98b2d453-ea0c-42f0-b3e3-2666dcbdf090",
   "metadata": {},
   "outputs": [
    {
     "name": "stdout",
     "output_type": "stream",
     "text": [
      "32.5\n",
      "Name\n",
      "Alice      25.0\n",
      "Bob        30.0\n",
      "Charlie    35.0\n",
      "David      40.0\n",
      "Name: Age, dtype: float64\n"
     ]
    }
   ],
   "source": [
    "# 计算年龄的平均值\n",
    "mean_age = df['Age'].mean()\n",
    "\n",
    "# 按名字分组并计算每组的平均年龄\n",
    "grouped = df.groupby('Name')\n",
    "mean_age_by_name = grouped['Age'].mean()\n",
    "\n",
    "print(mean_age)\n",
    "print(mean_age_by_name)"
   ]
  },
  {
   "cell_type": "code",
   "execution_count": 33,
   "id": "99539257-c89a-497a-9d17-74e7618d0176",
   "metadata": {
    "scrolled": true
   },
   "outputs": [
    {
     "data": {
      "image/png": "[encoded data removed]",
      "text/plain": [
       "<Figure size 640x480 with 1 Axes>"
      ]
     },
     "metadata": {},
     "output_type": "display_data"
    }
   ],
   "source": [
    "# 绘制年龄分布直方图\n",
    "df['Age'].plot(kind='hist', bins=10)\n",
    "#plt.title('绘制年龄分布直方图')\n",
    "#plt.xlabel('Age')\n",
    "#plt.ylabel('Frequency')\n",
    "plt.show()"
   ]
  },
  {
   "cell_type": "code",
   "execution_count": 25,
   "id": "895ec1ee-49ee-4521-88a7-40838f138cd4",
   "metadata": {},
   "outputs": [],
   "source": [
    "df.to_csv('test_age.csv')"
   ]
  },
  {
   "cell_type": "code",
   "execution_count": 42,
   "id": "3e8ab4e7-b054-454a-8f38-f292a95930f9",
   "metadata": {},
   "outputs": [
    {
     "name": "stdout",
     "output_type": "stream",
     "text": [
      "矩阵1\n",
      "[[1 2]\n",
      " [3 4]]\n",
      "矩阵2\n",
      "[[5 6]\n",
      " [7 8]]\n",
      "矩阵乘积\n",
      "[[19 22]\n",
      " [43 50]]\n"
     ]
    }
   ],
   "source": [
    "# 创建两个矩阵\n",
    "matrix1 = np.array([[1, 2], [3, 4]])\n",
    "matrix2 = np.array([[5, 6], [7, 8]])\n",
    "# 计算矩阵乘积\n",
    "result = np.matmul(matrix1, matrix2)\n",
    "print(\"矩阵1\")\n",
    "print(matrix1)\n",
    "print(\"矩阵2\")\n",
    "print(matrix2)\n",
    "print(\"矩阵乘积\")\n",
    "print(result_matmul)"
   ]
  },
  {
   "cell_type": "code",
   "execution_count": 46,
   "id": "b48b7f07-b75a-45bc-b844-7c5637fa45c8",
   "metadata": {},
   "outputs": [
    {
     "name": "stdout",
     "output_type": "stream",
     "text": [
      "[10 20 30 40 50 60]\n"
     ]
    }
   ],
   "source": [
    "print(np.array([1,2,3,4,5,6])*10)"
   ]
  },
  {
   "cell_type": "code",
   "execution_count": 3,
   "id": "69146674-16fe-4d05-96af-dc8d10725aea",
   "metadata": {},
   "outputs": [
    {
     "name": "stdout",
     "output_type": "stream",
     "text": [
      "<class 'pandas.core.frame.DataFrame'>    Unnamed: 0     Name  Age\n",
      "0           0    Alice   25\n",
      "1           1      Bob   30\n",
      "2           2  Charlie   35\n",
      "3           3    David   40\n"
     ]
    }
   ],
   "source": [
    "data = pd.read_csv(\"test_age.csv\")\n",
    "print(type(data),data)"
   ]
  },
  {
   "cell_type": "code",
   "execution_count": 4,
   "id": "5a2bcbac-311c-4025-9181-495b5b89c242",
   "metadata": {},
   "outputs": [
    {
     "name": "stdout",
     "output_type": "stream",
     "text": [
      "0    25\n",
      "1    30\n",
      "2    35\n",
      "3    40\n",
      "Name: Age, dtype: int64\n"
     ]
    }
   ],
   "source": [
    "col = data['Age']\n",
    "print(col)"
   ]
  },
  {
   "cell_type": "code",
   "execution_count": 5,
   "id": "35b1e3ee-b494-406a-b1be-c2500a6b069e",
   "metadata": {},
   "outputs": [
    {
     "name": "stdout",
     "output_type": "stream",
     "text": [
      "[0    False\n",
      "1    False\n",
      "2     True\n",
      "3     True\n",
      "Name: Age, dtype: bool]\n"
     ]
    }
   ],
   "source": [
    "col1 = [col>30]\n",
    "print(col1)"
   ]
  },
  {
   "cell_type": "code",
   "execution_count": 7,
   "id": "864b4ea0-7729-483a-99eb-fd9a0fda83b5",
   "metadata": {},
   "outputs": [
    {
     "name": "stdout",
     "output_type": "stream",
     "text": [
      "   Unnamed: 0     Name  Age\n",
      "2           2  Charlie   35\n",
      "3           3    David   40\n"
     ]
    }
   ],
   "source": [
    "col1 = data[data['Age'] > 30]\n",
    "print(col1)"
   ]
  },
  {
   "cell_type": "code",
   "execution_count": 9,
   "id": "23f89714-3a76-47b9-b49b-b2cf96842dd4",
   "metadata": {},
   "outputs": [
    {
     "name": "stdout",
     "output_type": "stream",
     "text": [
      "37.5\n"
     ]
    }
   ],
   "source": [
    "print(col1['Age'].mean())"
   ]
  },
  {
   "cell_type": "code",
   "execution_count": 11,
   "id": "82a19d70-c833-465a-95b1-d1b65885c4f9",
   "metadata": {},
   "outputs": [
    {
     "name": "stdout",
     "output_type": "stream",
     "text": [
      "Name\n",
      "Charlie    35.0\n",
      "David      40.0\n",
      "Name: Age, dtype: float64\n"
     ]
    }
   ],
   "source": [
    "print(col1.groupby('Name')['Age'].mean())"
   ]
  },
  {
   "cell_type": "code",
   "execution_count": 15,
   "id": "91cd512f-6fad-40ec-868a-c63a781c5ae3",
   "metadata": {},
   "outputs": [
    {
     "name": "stdout",
     "output_type": "stream",
     "text": [
      "Unnamed: 0    2\n",
      "Name          2\n",
      "Age           2\n",
      "dtype: int64\n"
     ]
    }
   ],
   "source": [
    "print(col1.count())"
   ]
  },
  {
   "cell_type": "code",
   "execution_count": 16,
   "id": "574053f4-5811-4bb5-8249-9defbc03941e",
   "metadata": {},
   "outputs": [
    {
     "name": "stdout",
     "output_type": "stream",
     "text": [
      "   Unnamed: 0     Name  Age\n",
      "2           2  Charlie   35\n",
      "3           3    David   40\n"
     ]
    }
   ],
   "source": [
    "print(col1.head())"
   ]
  },
  {
   "cell_type": "code",
   "execution_count": 30,
   "id": "b12acbf0-b291-49e2-ac71-ca5efbb42742",
   "metadata": {
    "editable": true,
    "slideshow": {
     "slide_type": ""
    },
    "tags": []
   },
   "outputs": [
    {
     "name": "stdout",
     "output_type": "stream",
     "text": [
      "[[0. 0. 0.]\n",
      " [0. 0. 0.]]\n",
      "[2 3 4 5 6 7 8 9]\n"
     ]
    },
    {
     "data": {
      "text/plain": [
       "array([2. , 2.1, 2.2, 2.3, 2.4, 2.5, 2.6, 2.7, 2.8, 2.9])"
      ]
     },
     "execution_count": 30,
     "metadata": {},
     "output_type": "execute_result"
    }
   ],
   "source": [
    "a = np.zeros((2, 3))\n",
    "print(a)\n",
    "\n",
    "b = np.arange(2, 10)\n",
    "print(b)\n",
    "\n",
    "np.arange(2, 3, 0.1)"
   ]
  },
  {
   "cell_type": "code",
   "execution_count": 36,
   "id": "b4d9241e-ef71-47db-a85b-9cd352fc0af4",
   "metadata": {},
   "outputs": [
    {
     "name": "stdout",
     "output_type": "stream",
     "text": [
      "[1 0 2 1 1 0 1 2 1 1 2 0 0 0 0 1 2 1 1 2 0 2 0 2 2 2 2 2 0 0] [1 0 2 1 1 0 1 2 1 1 2 0 0 0 0 1 2 1 1 2 0 2 0 2 2 2 2 2 0 0]\n",
      "准确度： 1.0\n"
     ]
    }
   ],
   "source": [
    "# 导入所需的库和数据\n",
    "from sklearn.datasets import load_iris\n",
    "from sklearn.model_selection import train_test_split\n",
    "from sklearn.linear_model import LogisticRegression\n",
    "from sklearn.metrics import accuracy_score\n",
    "\n",
    "# 加载鸢尾花数据集\n",
    "data = load_iris()\n",
    "X = data.data\n",
    "y = data.target\n",
    "\n",
    "# 将数据分为训练集和测试集\n",
    "X_train, X_test, y_train, y_test = train_test_split(X, y, test_size=0.2, random_state=42)\n",
    "\n",
    "# 创建并训练一个逻辑回归模型\n",
    "model = LogisticRegression()\n",
    "model.fit(X_train, y_train)\n",
    "\n",
    "# 预测并评估模型\n",
    "y_pred = model.predict(X_test)\n",
    "\n",
    "# 计算模型的准确度\n",
    "accuracy = accuracy_score(y_test, y_pred)\n",
    "print(y_test,y_pred)\n",
    "# 打印准确度\n",
    "print(\"准确度：\", accuracy)"
   ]
  },
  {
   "cell_type": "code",
   "execution_count": 37,
   "id": "92d7fdb1-5950-4bd0-8389-bdcf390cb9bd",
   "metadata": {},
   "outputs": [
    {
     "data": {
      "text/html": [
       "<div>\n",
       "<style scoped>\n",
       "    .dataframe tbody tr th:only-of-type {\n",
       "        vertical-align: middle;\n",
       "    }\n",
       "\n",
       "    .dataframe tbody tr th {\n",
       "        vertical-align: top;\n",
       "    }\n",
       "\n",
       "    .dataframe thead th {\n",
       "        text-align: right;\n",
       "    }\n",
       "</style>\n",
       "<table border=\"1\" class=\"dataframe\">\n",
       "  <thead>\n",
       "    <tr style=\"text-align: right;\">\n",
       "      <th></th>\n",
       "      <th>sepal length (cm)</th>\n",
       "      <th>sepal width (cm)</th>\n",
       "      <th>petal length (cm)</th>\n",
       "      <th>petal width (cm)</th>\n",
       "    </tr>\n",
       "  </thead>\n",
       "  <tbody>\n",
       "    <tr>\n",
       "      <th>0</th>\n",
       "      <td>5.1</td>\n",
       "      <td>3.5</td>\n",
       "      <td>1.4</td>\n",
       "      <td>0.2</td>\n",
       "    </tr>\n",
       "    <tr>\n",
       "      <th>1</th>\n",
       "      <td>4.9</td>\n",
       "      <td>3.0</td>\n",
       "      <td>1.4</td>\n",
       "      <td>0.2</td>\n",
       "    </tr>\n",
       "    <tr>\n",
       "      <th>2</th>\n",
       "      <td>4.7</td>\n",
       "      <td>3.2</td>\n",
       "      <td>1.3</td>\n",
       "      <td>0.2</td>\n",
       "    </tr>\n",
       "    <tr>\n",
       "      <th>3</th>\n",
       "      <td>4.6</td>\n",
       "      <td>3.1</td>\n",
       "      <td>1.5</td>\n",
       "      <td>0.2</td>\n",
       "    </tr>\n",
       "    <tr>\n",
       "      <th>4</th>\n",
       "      <td>5.0</td>\n",
       "      <td>3.6</td>\n",
       "      <td>1.4</td>\n",
       "      <td>0.2</td>\n",
       "    </tr>\n",
       "    <tr>\n",
       "      <th>...</th>\n",
       "      <td>...</td>\n",
       "      <td>...</td>\n",
       "      <td>...</td>\n",
       "      <td>...</td>\n",
       "    </tr>\n",
       "    <tr>\n",
       "      <th>145</th>\n",
       "      <td>6.7</td>\n",
       "      <td>3.0</td>\n",
       "      <td>5.2</td>\n",
       "      <td>2.3</td>\n",
       "    </tr>\n",
       "    <tr>\n",
       "      <th>146</th>\n",
       "      <td>6.3</td>\n",
       "      <td>2.5</td>\n",
       "      <td>5.0</td>\n",
       "      <td>1.9</td>\n",
       "    </tr>\n",
       "    <tr>\n",
       "      <th>147</th>\n",
       "      <td>6.5</td>\n",
       "      <td>3.0</td>\n",
       "      <td>5.2</td>\n",
       "      <td>2.0</td>\n",
       "    </tr>\n",
       "    <tr>\n",
       "      <th>148</th>\n",
       "      <td>6.2</td>\n",
       "      <td>3.4</td>\n",
       "      <td>5.4</td>\n",
       "      <td>2.3</td>\n",
       "    </tr>\n",
       "    <tr>\n",
       "      <th>149</th>\n",
       "      <td>5.9</td>\n",
       "      <td>3.0</td>\n",
       "      <td>5.1</td>\n",
       "      <td>1.8</td>\n",
       "    </tr>\n",
       "  </tbody>\n",
       "</table>\n",
       "<p>150 rows × 4 columns</p>\n",
       "</div>"
      ],
      "text/plain": [
       "     sepal length (cm)  sepal width (cm)  petal length (cm)  petal width (cm)\n",
       "0                  5.1               3.5                1.4               0.2\n",
       "1                  4.9               3.0                1.4               0.2\n",
       "2                  4.7               3.2                1.3               0.2\n",
       "3                  4.6               3.1                1.5               0.2\n",
       "4                  5.0               3.6                1.4               0.2\n",
       "..                 ...               ...                ...               ...\n",
       "145                6.7               3.0                5.2               2.3\n",
       "146                6.3               2.5                5.0               1.9\n",
       "147                6.5               3.0                5.2               2.0\n",
       "148                6.2               3.4                5.4               2.3\n",
       "149                5.9               3.0                5.1               1.8\n",
       "\n",
       "[150 rows x 4 columns]"
      ]
     },
     "execution_count": 37,
     "metadata": {},
     "output_type": "execute_result"
    }
   ],
   "source": [
    "# 如何导入存在的数字和文本的数据集\n",
    "import numpy as np\n",
    "from sklearn.datasets import load_iris\n",
    "iris = load_iris()\n",
    "import pandas as pd\n",
    "# 直接读到pandas的数据框中\n",
    "pd.DataFrame(data=iris.data,columns=iris.feature_names)\n",
    "\n"
   ]
  },
  {
   "cell_type": "code",
   "execution_count": 39,
   "id": "d9f3b215-f23e-4493-b9f7-3acbdbdd9a89",
   "metadata": {},
   "outputs": [
    {
     "name": "stdout",
     "output_type": "stream",
     "text": [
      "5.843333333333334\n",
      "5.8\n",
      "0.8253012917851409\n"
     ]
    }
   ],
   "source": [
    "# 求出鸢尾属植物萼片长度的平均值、中位数和标注差\n",
    "print(np.mean(iris.data[:,0])) #第一列数据的均值\n",
    "print(np.median(iris.data[:,0])) #第一列数据的中位数\n",
    "print(np.std(iris.data[:,0])) #第一列数据的标准差"
   ]
  },
  {
   "cell_type": "code",
   "execution_count": 41,
   "id": "5cace76c-95ea-4f82-8d9d-4220644f13ce",
   "metadata": {
    "collapsed": true,
    "jupyter": {
     "outputs_hidden": true,
     "source_hidden": true
    },
    "scrolled": true
   },
   "outputs": [
    {
     "name": "stdout",
     "output_type": "stream",
     "text": [
      "(array([ 50,  51,  52,  53,  54,  55,  56,  58,  59,  61,  63,  64,  65,\n",
      "        66,  68,  69,  70,  71,  72,  73,  74,  75,  76,  77,  78,  80,\n",
      "        82,  83,  84,  85,  86,  87,  88,  89,  90,  91,  92,  94,  95,\n",
      "        96,  97,  98,  99, 100, 101, 102, 103, 104, 105, 106, 107, 108,\n",
      "       109, 110, 111, 112, 113, 114, 115, 116, 117, 118, 119, 120, 121,\n",
      "       122, 123, 124, 125, 126, 127, 128, 129, 130, 131, 132, 133, 134,\n",
      "       135, 136, 137, 138, 139, 140, 141, 142, 143, 144, 145, 146, 147,\n",
      "       148, 149], dtype=int64),)\n",
      "50\n"
     ]
    }
   ],
   "source": [
    "# 在鸢尾属植物数据集中找到最常见的花瓣长度值。\n",
    "petallength = iris.data[:,3]\n",
    "index=np.where(petallength>1.0)\n",
    "print(index)\n",
    "print(index[0][0])"
   ]
  },
  {
   "cell_type": "code",
   "execution_count": 43,
   "id": "343b1bab-4379-46b6-abfa-0ffc5ef4da76",
   "metadata": {
    "collapsed": true,
    "jupyter": {
     "outputs_hidden": true
    }
   },
   "outputs": [
    {
     "name": "stdout",
     "output_type": "stream",
     "text": [
      "1.4\n",
      "13\n"
     ]
    }
   ],
   "source": [
    "# 在鸢尾属植物数据集中找到最常见的花瓣长度值\n",
    "# 找出numpy数值中出现次数最多的值\n",
    "petallength=iris.data[:,2]\n",
    "vals,counts=np.unique(petallength,return_counts=True)\n",
    "print(vals[np.argmax(counts)])\n",
    "print(np.amax(counts))"
   ]
  },
  {
   "cell_type": "code",
   "execution_count": 44,
   "id": "1314f445-bbd9-46b9-8505-d0c67e8e867f",
   "metadata": {},
   "outputs": [
    {
     "name": "stdout",
     "output_type": "stream",
     "text": [
      "[1.4 1.4 1.3 1.5 1.4 1.7 1.4 1.5 1.4 1.5 1.5 1.6 1.4 1.1 1.2 1.5 1.3 1.4\n",
      " 1.7 1.5 1.7 1.5 1.  1.7 1.9 1.6 1.6 1.5 1.4 1.6 1.6 1.5 1.5 1.4 1.5 1.2\n",
      " 1.3 1.4 1.3 1.5 1.3 1.3 1.3 1.6 1.9 1.4 1.6 1.4 1.5 1.4 4.7 4.5 4.9 4.\n",
      " 4.6 4.5 4.7 3.3 4.6 3.9 3.5 4.2 4.  4.7 3.6 4.4 4.5 4.1 4.5 3.9 4.8 4.\n",
      " 4.9 4.7 4.3 4.4 4.8 5.  4.5 3.5 3.8 3.7 3.9 5.1 4.5 4.5 4.7 4.4 4.1 4.\n",
      " 4.4 4.6 4.  3.3 4.2 4.2 4.2 4.3 3.  4.1 6.  5.1 5.9 5.6 5.8 6.6 4.5 6.3\n",
      " 5.8 6.1 5.1 5.3 5.5 5.  5.1 5.3 5.5 6.7 6.9 5.  5.7 4.9 6.7 4.9 5.7 6.\n",
      " 4.8 4.9 5.6 5.8 6.1 6.4 5.6 5.1 5.6 6.1 5.6 5.5 4.8 5.4 5.6 5.1 5.1 5.9\n",
      " 5.7 5.2 5.  5.2 5.4 5.1]\n"
     ]
    }
   ],
   "source": [
    "print(petallength)"
   ]
  },
  {
   "cell_type": "code",
   "execution_count": null,
   "id": "36cdcb1c-f207-428c-99d3-eeb730631259",
   "metadata": {},
   "outputs": [],
   "source": []
  },
  {
   "cell_type": "code",
   "execution_count": null,
   "id": "ff825f88-2f21-41e0-9e31-4796cb9d0f33",
   "metadata": {},
   "outputs": [],
   "source": []
  }
 ],
 "metadata": {
  "kernelspec": {
   "display_name": "Python 3 (ipykernel)",
   "language": "python",
   "name": "python3"
  },
  "language_info": {
   "codemirror_mode": {
    "name": "ipython",
    "version": 3
   },
   "file_extension": ".py",
   "mimetype": "text/x-python",
   "name": "python",
   "nbconvert_exporter": "python",
   "pygments_lexer": "ipython3",
   "version": "3.11.5"
  }
 },
 "nbformat": 4,
 "nbformat_minor": 5
}
