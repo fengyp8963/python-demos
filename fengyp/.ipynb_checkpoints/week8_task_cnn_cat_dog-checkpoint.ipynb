{
 "cells": [
  {
   "cell_type": "markdown",
   "id": "b7a62c8d-6778-492e-a637-6aabacf4b58e",
   "metadata": {},
   "source": [
    "1.识别图片中的猫/狗、计算dataset\\test_set测试数据预测准确率\n",
    "基于dataset\\training_set数据，根据提供的结构，建立CNN模型，识别图片中的猫/狗，计算预测准确率:\n",
    "2.从网站下载猫/狗图片，对其进行预测"
   ]
  },
  {
   "cell_type": "code",
   "execution_count": 2,
   "id": "27b7584c-a6e5-4964-aa6f-6ae953868b4e",
   "metadata": {},
   "outputs": [
    {
     "name": "stdout",
     "output_type": "stream",
     "text": [
      "Found 1080 images belonging to 2 classes.\n"
     ]
    }
   ],
   "source": [
    "# load the data\n",
    "from keras.preprocessing.image import ImageDataGenerator\n",
    "train_datagen = ImageDataGenerator(rescale=1./255)\n",
    "\n",
    "training_set = train_datagen.flow_from_directory('./img/',target_size=(50,50),batch_size=32,class_mode='binary')"
   ]
  },
  {
   "cell_type": "code",
   "execution_count": 3,
   "id": "b00ec907-8e83-4772-a0bd-26d112b1829e",
   "metadata": {},
   "outputs": [],
   "source": [
    "# set up the cnn model\n",
    "from keras.models import Sequential\n",
    "from keras.layers import Conv2D,MaxPool2D,Flatten,Dense\n",
    "\n",
    "model = Sequential()\n",
    "# 卷积层\n",
    "model.add(Conv2D(32,(3,3),activation='relu',input_shape=(50,50,3)))\n",
    "# 池化层\n",
    "model.add(MaxPool2D(pool_size=(2,2)))\n",
    "# 卷积层\n",
    "model.add(Conv2D(32,(3,3),activation='relu'))\n",
    "# 池化层\n",
    "model.add(MaxPool2D(pool_size=(2,2)))\n",
    "# flattening layer\n",
    "model.add(Flatten())\n",
    "#FC layer\n",
    "model.add(Dense(units=128,activation='relu'))\n",
    "model.add(Dense(units=1,activation='sigmoid'))"
   ]
  },
  {
   "cell_type": "code",
   "execution_count": 4,
   "id": "e72f87df-3e01-4d6c-ab37-e00b4a429d1b",
   "metadata": {},
   "outputs": [],
   "source": [
    "# configure the model \n",
    "model.compile(optimizer='adam',loss='binary_crossentropy',metrics=['accuracy'])"
   ]
  },
  {
   "cell_type": "code",
   "execution_count": 5,
   "id": "3b31b377-857d-4cba-9f6e-50ef91ed3d7e",
   "metadata": {},
   "outputs": [
    {
     "name": "stdout",
     "output_type": "stream",
     "text": [
      "Model: \"sequential\"\n",
      "_________________________________________________________________\n",
      " Layer (type)                Output Shape              Param #   \n",
      "=================================================================\n",
      " conv2d (Conv2D)             (None, 48, 48, 32)        896       \n",
      "                                                                 \n",
      " max_pooling2d (MaxPooling2  (None, 24, 24, 32)        0         \n",
      " D)                                                              \n",
      "                                                                 \n",
      " conv2d_1 (Conv2D)           (None, 22, 22, 32)        9248      \n",
      "                                                                 \n",
      " max_pooling2d_1 (MaxPoolin  (None, 11, 11, 32)        0         \n",
      " g2D)                                                            \n",
      "                                                                 \n",
      " flatten (Flatten)           (None, 3872)              0         \n",
      "                                                                 \n",
      " dense (Dense)               (None, 128)               495744    \n",
      "                                                                 \n",
      " dense_1 (Dense)             (None, 1)                 129       \n",
      "                                                                 \n",
      "=================================================================\n",
      "Total params: 506017 (1.93 MB)\n",
      "Trainable params: 506017 (1.93 MB)\n",
      "Non-trainable params: 0 (0.00 Byte)\n",
      "_________________________________________________________________\n"
     ]
    }
   ],
   "source": [
    "model.summary()"
   ]
  },
  {
   "cell_type": "code",
   "execution_count": 6,
   "id": "36ff7172-38d0-49d2-a672-2f29451a745b",
   "metadata": {},
   "outputs": [
    {
     "name": "stderr",
     "output_type": "stream",
     "text": [
      "C:\\Users\\润物智联\\AppData\\Local\\Temp\\ipykernel_14952\\756459242.py:2: UserWarning: `Model.fit_generator` is deprecated and will be removed in a future version. Please use `Model.fit`, which supports generators.\n",
      "  model.fit_generator(training_set,epochs=25)\n"
     ]
    },
    {
     "name": "stdout",
     "output_type": "stream",
     "text": [
      "Epoch 1/25\n",
      "34/34 [==============================] - 5s 116ms/step - loss: 0.7157 - accuracy: 0.5148\n",
      "Epoch 2/25\n",
      "34/34 [==============================] - 4s 104ms/step - loss: 0.6935 - accuracy: 0.5546\n",
      "Epoch 3/25\n",
      "34/34 [==============================] - 4s 103ms/step - loss: 0.6723 - accuracy: 0.6130\n",
      "Epoch 4/25\n",
      "34/34 [==============================] - 4s 105ms/step - loss: 0.6368 - accuracy: 0.6472\n",
      "Epoch 5/25\n",
      "34/34 [==============================] - 4s 105ms/step - loss: 0.5910 - accuracy: 0.6926\n",
      "Epoch 6/25\n",
      "34/34 [==============================] - 4s 108ms/step - loss: 0.5486 - accuracy: 0.7315\n",
      "Epoch 7/25\n",
      "34/34 [==============================] - 3s 102ms/step - loss: 0.5215 - accuracy: 0.7481\n",
      "Epoch 8/25\n",
      "34/34 [==============================] - 4s 103ms/step - loss: 0.4635 - accuracy: 0.8093\n",
      "Epoch 9/25\n",
      "34/34 [==============================] - 3s 102ms/step - loss: 0.4248 - accuracy: 0.8102\n",
      "Epoch 10/25\n",
      "34/34 [==============================] - 4s 105ms/step - loss: 0.3975 - accuracy: 0.8278\n",
      "Epoch 11/25\n",
      "34/34 [==============================] - 3s 101ms/step - loss: 0.3290 - accuracy: 0.8630\n",
      "Epoch 12/25\n",
      "34/34 [==============================] - 4s 107ms/step - loss: 0.2660 - accuracy: 0.8972\n",
      "Epoch 13/25\n",
      "34/34 [==============================] - 4s 103ms/step - loss: 0.1956 - accuracy: 0.9370\n",
      "Epoch 14/25\n",
      "34/34 [==============================] - 3s 100ms/step - loss: 0.1726 - accuracy: 0.9454\n",
      "Epoch 15/25\n",
      "34/34 [==============================] - 4s 104ms/step - loss: 0.1368 - accuracy: 0.9630\n",
      "Epoch 16/25\n",
      "34/34 [==============================] - 4s 104ms/step - loss: 0.0904 - accuracy: 0.9787\n",
      "Epoch 17/25\n",
      "34/34 [==============================] - 4s 103ms/step - loss: 0.0658 - accuracy: 0.9870\n",
      "Epoch 18/25\n",
      "34/34 [==============================] - 4s 109ms/step - loss: 0.0557 - accuracy: 0.9907\n",
      "Epoch 19/25\n",
      "34/34 [==============================] - 4s 103ms/step - loss: 0.0402 - accuracy: 0.9954\n",
      "Epoch 20/25\n",
      "34/34 [==============================] - 4s 104ms/step - loss: 0.0391 - accuracy: 0.9935\n",
      "Epoch 21/25\n",
      "34/34 [==============================] - 4s 104ms/step - loss: 0.0244 - accuracy: 0.9991\n",
      "Epoch 22/25\n",
      "34/34 [==============================] - 4s 103ms/step - loss: 0.0141 - accuracy: 0.9991\n",
      "Epoch 23/25\n",
      "34/34 [==============================] - 3s 101ms/step - loss: 0.0093 - accuracy: 1.0000\n",
      "Epoch 24/25\n",
      "34/34 [==============================] - 4s 105ms/step - loss: 0.0080 - accuracy: 1.0000\n",
      "Epoch 25/25\n",
      "34/34 [==============================] - 4s 104ms/step - loss: 0.0055 - accuracy: 1.0000\n"
     ]
    },
    {
     "data": {
      "text/plain": [
       "<keras.src.callbacks.History at 0x1fb55964090>"
      ]
     },
     "execution_count": 6,
     "metadata": {},
     "output_type": "execute_result"
    }
   ],
   "source": [
    "# train the model\n",
    "model.fit_generator(training_set,epochs=25)"
   ]
  },
  {
   "cell_type": "code",
   "execution_count": 7,
   "id": "baa04a6c-156c-47f5-a7ec-1f4464534f23",
   "metadata": {},
   "outputs": [
    {
     "name": "stderr",
     "output_type": "stream",
     "text": [
      "C:\\Users\\润物智联\\AppData\\Local\\Temp\\ipykernel_14952\\474730968.py:2: UserWarning: `Model.evaluate_generator` is deprecated and will be removed in a future version. Please use `Model.evaluate`, which supports generators.\n",
      "  accuracy = model.evaluate_generator(training_set)\n"
     ]
    },
    {
     "name": "stdout",
     "output_type": "stream",
     "text": [
      "[0.004239681176841259, 1.0]\n"
     ]
    }
   ],
   "source": [
    "# accuracy on the training data\n",
    "accuracy = model.evaluate_generator(training_set)\n",
    "print(accuracy)"
   ]
  },
  {
   "cell_type": "code",
   "execution_count": 8,
   "id": "0881e0f4-e11b-4de6-ab24-a7dbc36ff759",
   "metadata": {},
   "outputs": [
    {
     "name": "stdout",
     "output_type": "stream",
     "text": [
      "Found 1080 images belonging to 2 classes.\n"
     ]
    },
    {
     "name": "stderr",
     "output_type": "stream",
     "text": [
      "C:\\Users\\润物智联\\AppData\\Local\\Temp\\ipykernel_14952\\3077391983.py:2: UserWarning: `Model.evaluate_generator` is deprecated and will be removed in a future version. Please use `Model.evaluate`, which supports generators.\n",
      "  accuracy_test = model.evaluate_generator(test_set)\n"
     ]
    },
    {
     "name": "stdout",
     "output_type": "stream",
     "text": [
      "[0.004239681176841259, 1.0]\n"
     ]
    }
   ],
   "source": [
    "test_set = train_datagen.flow_from_directory('./img/',target_size=(50,50),batch_size=32,class_mode='binary')\n",
    "accuracy_test = model.evaluate_generator(test_set)\n",
    "print(accuracy_test)"
   ]
  },
  {
   "cell_type": "code",
   "execution_count": 14,
   "id": "fbe9ad0e-6fd9-47f5-8ac5-1b6dca02b912",
   "metadata": {},
   "outputs": [
    {
     "name": "stdout",
     "output_type": "stream",
     "text": [
      "1/1 [==============================] - 0s 17ms/step\n",
      "[[1]]\n"
     ]
    }
   ],
   "source": [
    "# load single image\n",
    "from keras.preprocessing.image import load_img, img_to_array\n",
    "import numpy as np\n",
    "pic_dog = 'dog.jpg'\n",
    "pic_dog = load_img(pic_dog,target_size=(50,50))\n",
    "pic_dog = img_to_array(pic_dog)\n",
    "pic_dog = pic_dog / 255\n",
    "pic_dog = pic_dog.reshape(1,50,50,3)\n",
    "result = np.round(model.predict(pic_dog)).astype(int)\n",
    "print(result)"
   ]
  },
  {
   "cell_type": "code",
   "execution_count": 16,
   "id": "1f2f163a-c782-4e27-a183-1f142e17907b",
   "metadata": {},
   "outputs": [
    {
     "name": "stdout",
     "output_type": "stream",
     "text": [
      "1/1 [==============================] - 0s 15ms/step\n",
      "[[0]]\n"
     ]
    }
   ],
   "source": [
    "pic_cat = 'cat1.jpg'\n",
    "pic_cat = load_img(pic_cat,target_size=(50,50))\n",
    "pic_cat = img_to_array(pic_cat)\n",
    "pic_cat = pic_cat / 255\n",
    "pic_cat = pic_cat.reshape(1,50,50,3)\n",
    "result = np.round(model.predict(pic_cat)).astype(int)\n",
    "print(result)"
   ]
  },
  {
   "cell_type": "code",
   "execution_count": 17,
   "id": "1792e404-1bfd-4041-bd62-664859bde6c8",
   "metadata": {},
   "outputs": [
    {
     "data": {
      "text/plain": [
       "{'cat': 0, 'dog': 1}"
      ]
     },
     "execution_count": 17,
     "metadata": {},
     "output_type": "execute_result"
    }
   ],
   "source": [
    "training_set.class_indices"
   ]
  },
  {
   "cell_type": "code",
   "execution_count": null,
   "id": "1e594fcf-d04d-48ec-a591-929c98cc89fe",
   "metadata": {},
   "outputs": [],
   "source": [
    "# make prediction on multiple images\n",
    "import matplotlib as mlp\n",
    "font2 = {'family' : 'SimHei',\n",
    "'weight' : 'normal',\n",
    "'size'   : 20,\n",
    "}\n",
    "mlp.rcParams['font.family'] = 'SimHei'\n",
    "mlp.rcParams['axes.unicode_minus'] = False\n",
    "from matplotlib import pyplot as plt\n",
    "from matplotlib.image import imread\n",
    "from keras.preprocessing.image import load_img\n",
    "from keras.preprocessing.image import img_to_array\n",
    "from keras.models import load_model\n",
    "a = [i for i in range(1,10)]\n",
    "fig = plt.figure(figsize=(10,10))\n",
    "for i in a:\n",
    "    img_name = str(i)+'.jpg'\n",
    "    img_ori = load_img(img_name, target_size=(50, 50))\n",
    "    img = img_to_array(img_ori)\n",
    "    img = img.astype('float32')/255\n",
    "    img = img.reshape(1,50,50,3)\n",
    "    result = model.predict_classes(img)\n",
    "    img_ori = load_img(img_name, target_size=(250, 250))\n",
    "    plt.subplot(3,3,i)\n",
    "    plt.imshow(img_ori)\n",
    "    plt.title('预测为：狗狗' if result[0][0] == 1 else '预测为：猫咪')\n",
    "plt.show()"
   ]
  },
  {
   "cell_type": "markdown",
   "id": "576b93ae-29b1-45b5-807b-66bcc46f242a",
   "metadata": {},
   "source": [
    "CNN实现猫狗识别实战summary:\n",
    "1、通过搭建CNN模型，实现了对复杂图像的自动识别分类:\n",
    "2、掌握了图像数据的批量加载与图像增强方法:\n",
    "3、更熟练的掌握了keras的sequence结构，并嵌入卷积、池化层:\n",
    "4、实现了对网络图片的分类识别\n",
    "5、图像预处理参考资料: https://keras.io/preprocessing/image/"
   ]
  }
 ],
 "metadata": {
  "kernelspec": {
   "display_name": "Python 3 (ipykernel)",
   "language": "python",
   "name": "python3"
  },
  "language_info": {
   "codemirror_mode": {
    "name": "ipython",
    "version": 3
   },
   "file_extension": ".py",
   "mimetype": "text/x-python",
   "name": "python",
   "nbconvert_exporter": "python",
   "pygments_lexer": "ipython3",
   "version": "3.11.5"
  }
 },
 "nbformat": 4,
 "nbformat_minor": 5
}
